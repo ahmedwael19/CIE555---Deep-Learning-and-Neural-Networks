{
 "cells": [
  {
   "cell_type": "markdown",
   "metadata": {
    "colab_type": "text",
    "id": "1aPFb6sg3RdE"
   },
   "source": [
    "<h4 align=\"right\">12th of February 2019</h4>\n",
    "<h1 align=\"center\">Neural Networks and Deep Learning (CIE 555)</h1>\n",
    "<h2 align=\"center\">Lab 2: TensorFlow</h2> <br>"
   ]
  },
  {
   "cell_type": "code",
   "execution_count": 1,
   "metadata": {
    "colab": {},
    "colab_type": "code",
    "id": "SZgCJnPc3yS1"
   },
   "outputs": [
    {
     "name": "stderr",
     "output_type": "stream",
     "text": [
      "C:\\ProgramData\\Anaconda3\\lib\\site-packages\\h5py\\__init__.py:36: FutureWarning: Conversion of the second argument of issubdtype from `float` to `np.floating` is deprecated. In future, it will be treated as `np.float64 == np.dtype(float).type`.\n",
      "  from ._conv import register_converters as _register_converters\n"
     ]
    }
   ],
   "source": [
    "import tensorflow as tf\n",
    "import numpy as np"
   ]
  },
  {
   "cell_type": "markdown",
   "metadata": {
    "colab_type": "text",
    "id": "kS79qV4M3-C9"
   },
   "source": [
    "### TensorFlow basics"
   ]
  },
  {
   "cell_type": "code",
   "execution_count": 2,
   "metadata": {
    "colab": {},
    "colab_type": "code",
    "id": "8ca9G42J35Ut"
   },
   "outputs": [],
   "source": [
    "X = tf.constant(5)\n",
    "Y = tf.constant(10)\n",
    "S = tf.add(X,Y)\n",
    "M = tf.multiply(X,Y)\n",
    "Z = tf.subtract(M,S)"
   ]
  },
  {
   "cell_type": "code",
   "execution_count": 3,
   "metadata": {
    "colab": {
     "base_uri": "https://localhost:8080/",
     "height": 34
    },
    "colab_type": "code",
    "id": "YSdQeU6U4G8X",
    "outputId": "3a193aec-5688-4b3f-fe84-9f47c715e502"
   },
   "outputs": [
    {
     "name": "stdout",
     "output_type": "stream",
     "text": [
      "35\n"
     ]
    }
   ],
   "source": [
    "# sess = tf.Session\n",
    "# print(sess.run(Z))\n",
    "# sess.close()\n",
    "with tf.Session() as sess:\n",
    "    print(sess.run(Z))"
   ]
  },
  {
   "cell_type": "code",
   "execution_count": 4,
   "metadata": {
    "colab": {
     "base_uri": "https://localhost:8080/",
     "height": 34
    },
    "colab_type": "code",
    "id": "n6dUaQ9d4JYJ",
    "outputId": "f5ca9c06-1bb2-412c-9286-05bc12b2c7f7"
   },
   "outputs": [
    {
     "name": "stdout",
     "output_type": "stream",
     "text": [
      "90\n"
     ]
    }
   ],
   "source": [
    "# integrate with numpy and constants by converting numpy to constants\n",
    "X = tf.constant(5)\n",
    "Y = tf.constant(10)\n",
    "S = X + 5\n",
    "M = Y * 10\n",
    "Z = tf.subtract(M,S)\n",
    "with tf.Session() as sess:\n",
    "    print(sess.run(Z))"
   ]
  },
  {
   "cell_type": "code",
   "execution_count": 5,
   "metadata": {
    "colab": {
     "base_uri": "https://localhost:8080/",
     "height": 233
    },
    "colab_type": "code",
    "id": "rQ-X6dq64XyK",
    "outputId": "722993a1-5b76-47fd-c076-a48fef259b6c"
   },
   "outputs": [
    {
     "name": "stdout",
     "output_type": "stream",
     "text": [
      "[4]\n",
      "[44 44 44 44]\n"
     ]
    }
   ],
   "source": [
    "# broadcasting applies\n",
    "X = tf.constant(5)\n",
    "Y = tf.constant(10)\n",
    "S = X + [1,1,1,1]\n",
    "M = Y * [5,5,5,5]\n",
    "Z = tf.subtract(M,S)\n",
    "# can get tensor dims\n",
    "print(Z.get_shape().as_list())\n",
    "\n",
    "with tf.Session() as sess:\n",
    "    print(sess.run(Z))"
   ]
  },
  {
   "cell_type": "code",
   "execution_count": 6,
   "metadata": {
    "colab": {
     "base_uri": "https://localhost:8080/",
     "height": 34
    },
    "colab_type": "code",
    "id": "L-aD0UDH4nAh",
    "outputId": "47affb5a-95e0-41e4-c1cf-61eb4ba08d26"
   },
   "outputs": [
    {
     "name": "stdout",
     "output_type": "stream",
     "text": [
      "35.0\n"
     ]
    }
   ],
   "source": [
    "# what if I need to feed data\n",
    "tf.reset_default_graph()\n",
    "X = tf.placeholder(tf.float32)\n",
    "Y = tf.placeholder(tf.float32)\n",
    "S = tf.add(X,Y)\n",
    "M = tf.multiply(X,Y)\n",
    "Z = tf.subtract(M,S)\n",
    "with tf.Session() as sess:\n",
    "    print(sess.run(Z, feed_dict = {X:5,Y:10}))\n",
    "#train_writer.add_graph(tf.get_default_graph())"
   ]
  },
  {
   "cell_type": "code",
   "execution_count": 7,
   "metadata": {
    "colab": {},
    "colab_type": "code",
    "id": "m8ZCfZ2754cJ"
   },
   "outputs": [],
   "source": [
    "a = tf.constant([2,2], name = 'a', dtype = tf.int32)\n",
    "a = tf.zeros([2])\n",
    "a = tf.zeros((2,), dtype = tf.int32)\n",
    "b = tf.zeros_like(a)\n",
    "a = tf.fill([2,2], 5)"
   ]
  },
  {
   "cell_type": "code",
   "execution_count": 8,
   "metadata": {
    "colab": {
     "base_uri": "https://localhost:8080/",
     "height": 51
    },
    "colab_type": "code",
    "id": "Yrbm7VKg8wGP",
    "outputId": "656f5bbf-bca0-4262-f211-041c0fd322a0"
   },
   "outputs": [
    {
     "name": "stdout",
     "output_type": "stream",
     "text": [
      "[[40 40]\n",
      " [ 4  4]]\n"
     ]
    }
   ],
   "source": [
    "# a = np.array([10,10])\n",
    "a = np.array([[10,10],[1,1]])\n",
    "b = np.array([[2, 2],[2, 2]])\n",
    "c = tf.matmul(a,b)\n",
    "with tf.Session() as sess:\n",
    "    print(sess.run(c))"
   ]
  },
  {
   "cell_type": "code",
   "execution_count": 9,
   "metadata": {
    "colab": {},
    "colab_type": "code",
    "id": "v_myy7V69G-v"
   },
   "outputs": [
    {
     "name": "stdout",
     "output_type": "stream",
     "text": [
      "[[40. 40.]\n",
      " [ 4.  4.]]\n"
     ]
    }
   ],
   "source": [
    "# a = np.array([10,10])\n",
    "a = np.array([[10,10],[1,1]])\n",
    "b = np.array([[2, 2],[2, 2]])\n",
    "c = tf.cast(tf.matmul(a,b), dtype = tf.float32)\n",
    "with tf.Session() as sess:\n",
    "    print(sess.run(c))"
   ]
  },
  {
   "cell_type": "markdown",
   "metadata": {
    "colab_type": "text",
    "id": "hHpHd5vrAHMd"
   },
   "source": [
    "<h3> Don't use tf.arange</h3>\n",
    "doesn't work with for loops"
   ]
  },
  {
   "cell_type": "markdown",
   "metadata": {
    "colab_type": "text",
    "id": "-No5tjpeBSTx"
   },
   "source": [
    "### Regression example on boston dataset"
   ]
  },
  {
   "cell_type": "code",
   "execution_count": 10,
   "metadata": {
    "colab": {},
    "colab_type": "code",
    "id": "yCp4Xr0YAP5y"
   },
   "outputs": [],
   "source": [
    "from sklearn.datasets import load_boston\n",
    "from sklearn.model_selection import train_test_split"
   ]
  },
  {
   "cell_type": "code",
   "execution_count": 11,
   "metadata": {
    "colab": {},
    "colab_type": "code",
    "id": "fQxc7Q_JBluW"
   },
   "outputs": [],
   "source": [
    "boston = load_boston()\n",
    "xtrain, xtest, ytrain, ytest = train_test_split(boston.data, boston.target.reshape(-1,1), test_size = 0.2, random_state = 1)"
   ]
  },
  {
   "cell_type": "code",
   "execution_count": 12,
   "metadata": {
    "colab": {},
    "colab_type": "code",
    "id": "P8AXiECjCNT2"
   },
   "outputs": [
    {
     "data": {
      "text/plain": [
       "'\\nepochs = 10000\\nsess = tf.Session()\\nsess.run(tf.global_variables_initializer())\\nfor i in range(epochs):\\n#         _, loss = sess.run([optimizer, loss], feed_dict = {X:xtrain}) beware of the loss variable\\n    _, loss_train, predictions = sess.run([optimizer, loss, preds], feed_dict = {X : xtrain, Y : ytrain})\\n    if i % 10 == 0:\\n        print(i, loss_train)\\n        \\n'"
      ]
     },
     "execution_count": 12,
     "metadata": {},
     "output_type": "execute_result"
    }
   ],
   "source": [
    "\n",
    "\n",
    "'''\n",
    "epochs = 10000\n",
    "sess = tf.Session()\n",
    "sess.run(tf.global_variables_initializer())\n",
    "for i in range(epochs):\n",
    "#         _, loss = sess.run([optimizer, loss], feed_dict = {X:xtrain}) beware of the loss variable\n",
    "    _, loss_train, predictions = sess.run([optimizer, loss, preds], feed_dict = {X : xtrain, Y : ytrain})\n",
    "    if i % 10 == 0:\n",
    "        print(i, loss_train)\n",
    "        \n",
    "'''"
   ]
  },
  {
   "cell_type": "code",
   "execution_count": 13,
   "metadata": {
    "colab": {
     "base_uri": "https://localhost:8080/",
     "height": 51
    },
    "colab_type": "code",
    "id": "kL4u9QAlCbW_",
    "outputId": "52c6290c-4ef1-4d4c-cf25-6de870c403b0"
   },
   "outputs": [],
   "source": [
    "#testpreds = sess.run(preds, feed_dict = {X:xtest})\n",
    "#loss_test = sess.run(loss, feed_dict = {Y:ytest, preds:testpreds})\n",
    "#print('train loss',loss_train,'\\ntest loss',loss_test)"
   ]
  },
  {
   "cell_type": "code",
   "execution_count": 14,
   "metadata": {
    "colab": {},
    "colab_type": "code",
    "id": "gV-7_0qJK4N6"
   },
   "outputs": [],
   "source": [
    "sess.close()"
   ]
  },
  {
   "cell_type": "markdown",
   "metadata": {
    "colab_type": "text",
    "id": "aGvcixGyMrMm"
   },
   "source": [
    "### Classification practice on iris dataset"
   ]
  },
  {
   "cell_type": "markdown",
   "metadata": {
    "colab_type": "text",
    "id": "lkEiziJkMz-h"
   },
   "source": [
    "#### Data preparation"
   ]
  },
  {
   "cell_type": "code",
   "execution_count": 15,
   "metadata": {
    "colab": {},
    "colab_type": "code",
    "id": "qrpFliOCMDuA"
   },
   "outputs": [],
   "source": [
    "from sklearn.datasets import load_iris\n",
    "from sklearn.preprocessing import OneHotEncoder\n",
    "from sklearn.model_selection import train_test_split"
   ]
  },
  {
   "cell_type": "code",
   "execution_count": 16,
   "metadata": {
    "colab": {},
    "colab_type": "code",
    "id": "BfrRjglcNDmk"
   },
   "outputs": [],
   "source": [
    "iris = load_iris()  # iris.data, iris.target\n",
    "### To Be Done ### use sklearn OneHotEncoder grade = 5% time = 5 min  2 lines\n",
    "onehotencoder1 = OneHotEncoder()\n",
    "labels = onehotencoder1.fit_transform(iris.target.reshape(-1, 1).astype(np.float32)).toarray()  # <=== Change\n",
    "\n",
    "##################\n",
    "# labels are the encoded iris.target\n",
    "xtrain, xtest, ytrain, ytest = train_test_split(iris.data, labels, test_size = 0.2, random_state = 1)\n",
    "#ytrain_ori = onehotencoder1.inverse_transform(ytrain)\n",
    "#ytest_ori = onehotencoder1.inverse_transform(ytest)\n",
    "_, _, ytrain_ori, ytest_ori = train_test_split(iris.data, iris.target, test_size = 0.2, random_state = 1)\n"
   ]
  },
  {
   "cell_type": "markdown",
   "metadata": {
    "colab_type": "text",
    "id": "vqqSwOOxssWM"
   },
   "source": [
    "#### build model"
   ]
  },
  {
   "cell_type": "code",
   "execution_count": 17,
   "metadata": {
    "colab": {},
    "colab_type": "code",
    "id": "3O7tBDd-NVM-"
   },
   "outputs": [],
   "source": [
    "### To be Done ### implement the four functions grade = 80% time = 1 hour  around 20 lines\n",
    "def placeholders(nx,ny):\n",
    "    X = tf.placeholder(tf.float32, shape=[None,nx])\n",
    "    Y = tf.placeholder(tf.float32, shape=[None,ny])\n",
    "    return X, Y\n",
    "def init_weights():\n",
    "    W1 = tf.get_variable(\"Weights1\", shape = [4,5], initializer = tf.contrib.layers.xavier_initializer(seed = 5))\n",
    "    W2 = tf.get_variable(\"weights2\", shape = [5,3], initializer = tf.contrib.layers.xavier_initializer(seed = 5))\n",
    "    b1 = tf.get_variable(\"bias1\", initializer = tf.constant(0.0))\n",
    "    b2 = tf.get_variable(\"bias2\", initializer = tf.constant(0.0))\n",
    "    return {'W1':W1,'W2':W2, 'b1':b1,'b2':b2}\n",
    "def forward(X, params):\n",
    "    W1 = params['W1']\n",
    "    W2 = params['W2']\n",
    "    b1 = params['b1']\n",
    "    b2 = params['b2']\n",
    "    Z1 = tf.add(tf.matmul(X,W1),b1)\n",
    "    a1 = tf.nn.relu(Z1)\n",
    "    Z2 = tf.add(tf.matmul(a1,W2),b2)\n",
    "    a2 = tf.nn.softmax(Z2)\n",
    "    return a2\n",
    "def cost(A, Y):\n",
    "    loss = tf.losses.softmax_cross_entropy(Y, A)\n",
    "    return loss\n",
    "\n",
    "#########################################################\n",
    "def predict(A):\n",
    "    return tf.round(A)\n",
    "def accuracy(A, Y):\n",
    "    preds = predict(A)\n",
    "    return tf.metrics.accuracy(Y, preds)"
   ]
  },
  {
   "cell_type": "code",
   "execution_count": 18,
   "metadata": {
    "colab": {},
    "colab_type": "code",
    "id": "PcM9dKXpO-qY"
   },
   "outputs": [],
   "source": [
    "tf.reset_default_graph()\n",
    "X, Y = placeholders(xtrain.shape[1], ytrain.shape[1])\n",
    "parameters = init_weights()\n",
    "preds_proba = forward(X, parameters)\n",
    "loss = cost(preds_proba, Y)\n",
    "optimizer = tf.train.AdamOptimizer(learning_rate=0.001).minimize(loss)\n",
    "preds = predict(preds_proba)\n",
    "acc = accuracy(preds_proba, Y)"
   ]
  },
  {
   "cell_type": "code",
   "execution_count": 19,
   "metadata": {
    "colab": {},
    "colab_type": "code",
    "id": "eHRnkS7aPPjP"
   },
   "outputs": [
    {
     "name": "stdout",
     "output_type": "stream",
     "text": [
      "0 1.1280918 0.0\n",
      "500 0.7579782 0.7653889\n",
      "1000 0.62975705 0.87040275\n",
      "1500 0.6003466 0.9069389\n",
      "2000 0.5904035 0.9260375\n",
      "2500 0.5854805 0.93749666\n",
      "3000 0.5823113 0.94513613\n",
      "3500 0.57900536 0.9505929\n",
      "4000 0.57713884 0.954691\n",
      "4500 0.5749103 0.9583796\n",
      "5000 0.5728451 0.96143055\n",
      "5500 0.57132816 0.9639268\n",
      "6000 0.5703036 0.96600693\n",
      "6500 0.5696115 0.9677671\n",
      "7000 0.56914526 0.9692758\n",
      "7500 0.56883013 0.9705833\n",
      "8000 0.5686161 0.97172743\n",
      "8500 0.5684694 0.97273695\n",
      "9000 0.56836766 0.97363424\n",
      "9500 0.5682964 0.9744371\n"
     ]
    }
   ],
   "source": [
    "epochs = 10000\n",
    "sess = tf.Session()\n",
    "sess.run(tf.local_variables_initializer())\n",
    "sess.run(tf.global_variables_initializer())\n",
    "for i in range(epochs):\n",
    "#         _, loss = sess.run([optimizer, loss], feed_dict = {X:xtrain}) beware of the loss variable\n",
    "    _, loss_train, acc_train, predictions = sess.run([optimizer, loss, acc, preds], feed_dict = {X : xtrain, Y : ytrain})\n",
    "    if i % 500 == 0:\n",
    "        print(i, loss_train, acc_train[0])"
   ]
  },
  {
   "cell_type": "markdown",
   "metadata": {
    "colab_type": "text",
    "id": "Ir88MZczsyb8"
   },
   "source": [
    "#### Validate"
   ]
  },
  {
   "cell_type": "code",
   "execution_count": 20,
   "metadata": {
    "colab": {
     "base_uri": "https://localhost:8080/",
     "height": 51
    },
    "colab_type": "code",
    "id": "gTU3ykj9QlMm",
    "outputId": "21c4b691-d4f6-43cb-9116-c5225dbdca76"
   },
   "outputs": [
    {
     "name": "stdout",
     "output_type": "stream",
     "text": [
      "(0.0, 0.95555556)\n"
     ]
    }
   ],
   "source": [
    "### To be Done ### get test accuracy grade = 15% time = 20 min   4 lines\n",
    "X, Y = placeholders(xtest.shape[1], ytest.shape[1])\n",
    "#parameters = init_weights()\n",
    "preds_proba = forward(X, parameters)\n",
    "preds = predict(preds_proba)\n",
    "acc = accuracy(preds_proba, Y)\n",
    "#sess = tf.Session()\n",
    "sess.run(tf.local_variables_initializer())\n",
    "#sess.run(tf.global_variables_initializer())\n",
    "test_acc, test_predictions = sess.run([acc, preds], feed_dict = {X : xtest, Y : ytest})\n",
    "print(test_acc)\n",
    "\n",
    "#####################################################################"
   ]
  },
  {
   "cell_type": "code",
   "execution_count": 21,
   "metadata": {
    "colab": {
     "base_uri": "https://localhost:8080/",
     "height": 51
    },
    "colab_type": "code",
    "id": "L5lIGShcTqID",
    "outputId": "265fabdc-9c89-4ae3-ba79-badfa9db0fb3"
   },
   "outputs": [
    {
     "name": "stdout",
     "output_type": "stream",
     "text": [
      "train accuracy 0.9833333333333333\n",
      "test accuracy 0.9333333333333333\n"
     ]
    }
   ],
   "source": [
    "# another accuracy method\n",
    "from sklearn.metrics import accuracy_score\n",
    "test_predictions = np.argmax(test_predictions, axis = 1)\n",
    "train_predictions = np.argmax(predictions, axis = 1)\n",
    "print('train accuracy', accuracy_score(train_predictions, ytrain_ori))\n",
    "print('test accuracy', accuracy_score(test_predictions, ytest_ori))"
   ]
  },
  {
   "cell_type": "markdown",
   "metadata": {
    "colab_type": "text",
    "id": "fhXCWcaPsaHO"
   },
   "source": [
    "### multiple Graphs"
   ]
  },
  {
   "cell_type": "code",
   "execution_count": 22,
   "metadata": {
    "colab": {},
    "colab_type": "code",
    "id": "4TsFGo9isbGC"
   },
   "outputs": [
    {
     "name": "stdout",
     "output_type": "stream",
     "text": [
      "35\n",
      "35.0\n"
     ]
    }
   ],
   "source": [
    "# multiple graphs\n",
    "tf.reset_default_graph()\n",
    "g = tf.Graph()\n",
    "with g.as_default():\n",
    "    X = tf.constant(5)\n",
    "    Y = tf.constant(10)\n",
    "    S = tf.add(X,Y)\n",
    "    M = tf.multiply(X,Y)\n",
    "    Z = tf.subtract(M,S)\n",
    "with tf.Session(graph = g) as sess:\n",
    "    print(sess.run(Z))\n",
    "g2 = tf.Graph()\n",
    "with g2.as_default():\n",
    "    X = tf.placeholder(tf.float32)\n",
    "    Y = tf.placeholder(tf.float32)\n",
    "    S = tf.add(X,Y)\n",
    "    M = tf.multiply(X,Y)\n",
    "    Z = tf.subtract(M,S)\n",
    "with tf.Session(graph = g2) as sess:\n",
    "    print(sess.run(Z, feed_dict = {X:5,Y:10}))\n",
    "    \n",
    "# How will you share variables?\n",
    "# Why?\n",
    "# editing others code"
   ]
  },
  {
   "cell_type": "code",
   "execution_count": null,
   "metadata": {},
   "outputs": [],
   "source": []
  }
 ],
 "metadata": {
  "accelerator": "TPU",
  "colab": {
   "collapsed_sections": [
    "-No5tjpeBSTx",
    "fhXCWcaPsaHO"
   ],
   "name": "Lab2-students.ipynb",
   "provenance": [],
   "version": "0.3.2"
  },
  "kernelspec": {
   "display_name": "Python 3",
   "language": "python",
   "name": "python3"
  },
  "language_info": {
   "codemirror_mode": {
    "name": "ipython",
    "version": 3
   },
   "file_extension": ".py",
   "mimetype": "text/x-python",
   "name": "python",
   "nbconvert_exporter": "python",
   "pygments_lexer": "ipython3",
   "version": "3.6.5"
  }
 },
 "nbformat": 4,
 "nbformat_minor": 1
}
