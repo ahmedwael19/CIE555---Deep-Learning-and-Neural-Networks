{
 "cells": [
  {
   "cell_type": "markdown",
   "metadata": {
    "colab_type": "text",
    "id": "x0ZXqrSHPQxN"
   },
   "source": [
    "<h4 align=\"right\">5th of February 2019</h4>\n",
    "<h1 align=\"center\">Neural Networks and Deep Learning (CIE 555)</h1>\n",
    "<h2 align=\"center\">Lab 1: Course Introduction</h2> <br>"
   ]
  },
  {
   "cell_type": "markdown",
   "metadata": {
    "colab_type": "text",
    "id": "JS2CLuIwPbZV"
   },
   "source": [
    "\n",
    "###Part 1: Introduction to Python"
   ]
  },
  {
   "cell_type": "markdown",
   "metadata": {
    "colab_type": "text",
    "id": "K2jel9v2PfBc"
   },
   "source": [
    "####(1) Lists"
   ]
  },
  {
   "cell_type": "markdown",
   "metadata": {
    "colab_type": "text",
    "id": "PlTTG3vgdPdw"
   },
   "source": [
    "A list type is a compound data type that holds multiple values"
   ]
  },
  {
   "cell_type": "code",
   "execution_count": 1,
   "metadata": {
    "colab": {},
    "colab_type": "code",
    "id": "8UtgbeYzMETn"
   },
   "outputs": [],
   "source": [
    "x = [1, 3, 5 , 7, 8]"
   ]
  },
  {
   "cell_type": "code",
   "execution_count": 2,
   "metadata": {
    "colab": {
     "base_uri": "https://localhost:8080/",
     "height": 35
    },
    "colab_type": "code",
    "id": "IKdSpVVgMETx",
    "outputId": "cee5332f-e104-40cf-ebc9-1e91d8f72eaa"
   },
   "outputs": [
    {
     "name": "stdout",
     "output_type": "stream",
     "text": [
      "1\n"
     ]
    }
   ],
   "source": [
    "#lists are indexable\n",
    "print (x[0])"
   ]
  },
  {
   "cell_type": "code",
   "execution_count": 3,
   "metadata": {
    "colab": {
     "base_uri": "https://localhost:8080/",
     "height": 52
    },
    "colab_type": "code",
    "id": "D9tbccnWMET-",
    "outputId": "5b40802a-40ba-4236-ef1a-83f7b65263b7"
   },
   "outputs": [
    {
     "name": "stdout",
     "output_type": "stream",
     "text": [
      "[1, 3, 5, 7, 8]\n",
      "[1, 3, 6, 7, 8]\n"
     ]
    }
   ],
   "source": [
    "#Unlike Strings lists are mutable (Can be Changed)\n",
    "print (x)\n",
    "x[2] = 6\n",
    "print (x)"
   ]
  },
  {
   "cell_type": "code",
   "execution_count": 4,
   "metadata": {
    "colab": {
     "base_uri": "https://localhost:8080/",
     "height": 35
    },
    "colab_type": "code",
    "id": "cJvcotyhMEUL",
    "outputId": "ab3adc02-c433-4a7b-ef08-6bff75f9304d"
   },
   "outputs": [
    {
     "name": "stdout",
     "output_type": "stream",
     "text": [
      "[1, 3, 6, 7, 8, 10]\n"
     ]
    }
   ],
   "source": [
    "#add new items at the end\n",
    "x.append(10)\n",
    "print (x)"
   ]
  },
  {
   "cell_type": "code",
   "execution_count": 5,
   "metadata": {
    "colab": {
     "base_uri": "https://localhost:8080/",
     "height": 35
    },
    "colab_type": "code",
    "id": "iFsBleoKMEUf",
    "outputId": "4f27338e-7a89-464e-8dc7-f6d34d1ed5ce"
   },
   "outputs": [
    {
     "name": "stdout",
     "output_type": "stream",
     "text": [
      "[1, 3, 3, 6, 7, 8, 10]\n"
     ]
    }
   ],
   "source": [
    "#inserting items in the middle\n",
    "x.insert(1,3)\n",
    "print (x)"
   ]
  },
  {
   "cell_type": "code",
   "execution_count": 6,
   "metadata": {
    "colab": {
     "base_uri": "https://localhost:8080/",
     "height": 35
    },
    "colab_type": "code",
    "id": "2xxoKzNsMEU1",
    "outputId": "ed5db288-6c70-425a-eea6-2d4902ce0846"
   },
   "outputs": [
    {
     "name": "stdout",
     "output_type": "stream",
     "text": [
      "[7, 8, 3, 6, 7, 8, 10]\n"
     ]
    }
   ],
   "source": [
    "#slicing - you may remove some values \n",
    "x[0:2] = [7,8]\n",
    "print(x)"
   ]
  },
  {
   "cell_type": "code",
   "execution_count": 7,
   "metadata": {
    "colab": {
     "base_uri": "https://localhost:8080/",
     "height": 35
    },
    "colab_type": "code",
    "id": "LfVXNDvAg6Eo",
    "outputId": "77ee6599-6427-45bd-a6dc-e5bdc2f1641a"
   },
   "outputs": [
    {
     "name": "stdout",
     "output_type": "stream",
     "text": [
      "[3, 6, 7, 8, 10]\n"
     ]
    }
   ],
   "source": [
    "#slicing - you may also remove them\n",
    "x[0:2] = []\n",
    "print(x)"
   ]
  },
  {
   "cell_type": "code",
   "execution_count": 8,
   "metadata": {
    "colab": {
     "base_uri": "https://localhost:8080/",
     "height": 35
    },
    "colab_type": "code",
    "id": "vfXvylrsMEVG",
    "outputId": "a7296d04-adbd-4461-b160-a34894a54b32"
   },
   "outputs": [
    {
     "name": "stdout",
     "output_type": "stream",
     "text": [
      "['Hello', ', ', 'World', '!']\n"
     ]
    }
   ],
   "source": [
    "#lists Concatenation\n",
    "x = [\"Hello\", \", \"]\n",
    "y = [\"World\", \"!\"]\n",
    "print(x + y)"
   ]
  },
  {
   "cell_type": "code",
   "execution_count": 9,
   "metadata": {
    "colab": {
     "base_uri": "https://localhost:8080/",
     "height": 52
    },
    "colab_type": "code",
    "id": "O4Az8QSqMEVS",
    "outputId": "9e200bf0-997c-4bd4-9fb2-1b1e65c09926"
   },
   "outputs": [
    {
     "name": "stdout",
     "output_type": "stream",
     "text": [
      "[', ', 'World']\n",
      ", \n"
     ]
    }
   ],
   "source": [
    "#lists within lists\n",
    "x = [\"Hello\", [\", \", \"World\"], \"!\"]\n",
    "print(x[1])\n",
    "print(x[1][0])"
   ]
  },
  {
   "cell_type": "code",
   "execution_count": 10,
   "metadata": {
    "colab": {
     "base_uri": "https://localhost:8080/",
     "height": 35
    },
    "colab_type": "code",
    "id": "_NPtvRK-O6Fp",
    "outputId": "bd3587e8-e96f-4576-cac6-bcfb71258586"
   },
   "outputs": [
    {
     "name": "stdout",
     "output_type": "stream",
     "text": [
      "[5, 7, 9]\n"
     ]
    }
   ],
   "source": [
    "#Sum two lists\n",
    "from operator import add\n",
    "\n",
    "list1 = [1,2,3]\n",
    "list2 = [4,5,6]\n",
    "listsum = list(map(add, list1, list2))\n",
    "# listsum = [i+j for i,j in zip(list1,list2)]\n",
    "print(listsum)"
   ]
  },
  {
   "cell_type": "markdown",
   "metadata": {
    "colab_type": "text",
    "id": "unAJCDFKPigL"
   },
   "source": [
    "####(2) NumPy"
   ]
  },
  {
   "cell_type": "markdown",
   "metadata": {
    "colab_type": "text",
    "id": "YT5dd7j8iF8u"
   },
   "source": [
    "NumPy is a fundamental computing package that supports multidimensional arrays."
   ]
  },
  {
   "cell_type": "code",
   "execution_count": 11,
   "metadata": {
    "colab": {},
    "colab_type": "code",
    "id": "JBQ7p5M_MEa4"
   },
   "outputs": [],
   "source": [
    "import numpy as np"
   ]
  },
  {
   "cell_type": "code",
   "execution_count": 12,
   "metadata": {
    "colab": {
     "base_uri": "https://localhost:8080/",
     "height": 35
    },
    "colab_type": "code",
    "id": "ws_Z5zB8uUEx",
    "outputId": "020c9e73-aca8-4961-fba9-2b981d9c09e0"
   },
   "outputs": [
    {
     "name": "stdout",
     "output_type": "stream",
     "text": [
      "[1.1 2.  3.2]\n"
     ]
    }
   ],
   "source": [
    "# array initialization \n",
    "arr  = np.array([1.1,2.0,3.2])\n",
    "print (arr)"
   ]
  },
  {
   "cell_type": "code",
   "execution_count": 13,
   "metadata": {
    "colab": {
     "base_uri": "https://localhost:8080/",
     "height": 122
    },
    "colab_type": "code",
    "id": "yqcMlm18MEa-",
    "outputId": "cd02af82-1330-431f-fd1c-157e4973eea0"
   },
   "outputs": [
    {
     "name": "stdout",
     "output_type": "stream",
     "text": [
      "[[1. 2. 3.]\n",
      " [4. 5. 6.]]\n",
      "[[1 2 3]\n",
      " [4 5 6]]\n",
      "shape: (2, 3)\n",
      "[1 2 3 4 5 6]\n"
     ]
    }
   ],
   "source": [
    "#array initialization from list\n",
    "#Type definition is available\n",
    "x = [[1,2,3],[4,5,6]]\n",
    "xnpf = np.array(x, dtype=np.float64)\n",
    "xnpi = np.array(x, dtype=np.int8)\n",
    "print(xnpf)\n",
    "print(xnpi)\n",
    "# get array shape (tuple of array dimensions)\n",
    "print(f\"shape: {xnpf.shape}\")\n",
    "#reshape\n",
    "r= np.reshape(x, 6)\n",
    "print(r)"
   ]
  },
  {
   "cell_type": "code",
   "execution_count": 14,
   "metadata": {
    "colab": {
     "base_uri": "https://localhost:8080/",
     "height": 312
    },
    "colab_type": "code",
    "id": "uuO607KSMEbL",
    "outputId": "635cc233-5bc5-4552-b87e-f949bddc17cc"
   },
   "outputs": [
    {
     "name": "stdout",
     "output_type": "stream",
     "text": [
      "[[1. 1. 1.]\n",
      " [1. 1. 1.]]\n",
      "shape: (2, 3)\n",
      "\n",
      "[[[0. 0.]\n",
      "  [0. 0.]\n",
      "  [0. 0.]]\n",
      "\n",
      " [[0. 0.]\n",
      "  [0. 0.]\n",
      "  [0. 0.]]\n",
      "\n",
      " [[0. 0.]\n",
      "  [0. 0.]\n",
      "  [0. 0.]]]\n",
      "shape: (3, 3, 2)\n",
      "\n"
     ]
    }
   ],
   "source": [
    "#array initialization from ones or zeros\n",
    "x = np.ones((2,3))\n",
    "#(channels,rows,columns)\n",
    "y = np.zeros((3,3,2))\n",
    "print(x)\n",
    "print(f\"shape: {x.shape}\\n\")\n",
    "print(y)\n",
    "print(f\"shape: {y.shape}\\n\")"
   ]
  },
  {
   "cell_type": "code",
   "execution_count": 15,
   "metadata": {
    "colab": {
     "base_uri": "https://localhost:8080/",
     "height": 87
    },
    "colab_type": "code",
    "id": "DKiE5esXMEbR",
    "outputId": "cc7d869b-c19d-4aa2-9689-ec3814799317"
   },
   "outputs": [
    {
     "name": "stdout",
     "output_type": "stream",
     "text": [
      "[[1. 0. 0. 0.]\n",
      " [0. 1. 0. 0.]\n",
      " [0. 0. 1. 0.]\n",
      " [0. 0. 0. 1.]]\n"
     ]
    }
   ],
   "source": [
    "#initialization of identity\n",
    "x = np.eye(4)\n",
    "y = np.identity(4)\n",
    "print(x)"
   ]
  },
  {
   "cell_type": "code",
   "execution_count": 16,
   "metadata": {
    "colab": {
     "base_uri": "https://localhost:8080/",
     "height": 52
    },
    "colab_type": "code",
    "id": "ubAb5IwLMEbb",
    "outputId": "9bf49a19-2e95-4a17-c4d7-2b065ddbe34e"
   },
   "outputs": [
    {
     "name": "stdout",
     "output_type": "stream",
     "text": [
      "[0 2 4 6 8]\n",
      "[0 2 4 6 8]\n"
     ]
    }
   ],
   "source": [
    "#define an array as a sequence of evenly spaced values\n",
    "print(np.arange(0,10,2))\n",
    "print(np.array(range(0,10,2)))"
   ]
  },
  {
   "cell_type": "code",
   "execution_count": 17,
   "metadata": {
    "colab": {
     "base_uri": "https://localhost:8080/",
     "height": 52
    },
    "colab_type": "code",
    "id": "dLifGUaKb7yt",
    "outputId": "c2e5c14d-af81-44ce-f6bf-c69dc2c629d5"
   },
   "outputs": [
    {
     "name": "stdout",
     "output_type": "stream",
     "text": [
      "6\n",
      "9\n"
     ]
    }
   ],
   "source": [
    "#Accessing array elements\n",
    "x = np.array([[1,2,3],[4,5,6],[7,8,9]])\n",
    "print(x[1,2])\n",
    "print(x[-1,2])"
   ]
  },
  {
   "cell_type": "code",
   "execution_count": 18,
   "metadata": {
    "colab": {
     "base_uri": "https://localhost:8080/",
     "height": 52
    },
    "colab_type": "code",
    "id": "dUW8SrVdMEbj",
    "outputId": "1664b443-e0be-47f0-b2df-9ed39d485ed4"
   },
   "outputs": [
    {
     "name": "stdout",
     "output_type": "stream",
     "text": [
      "['1' '2' '3']\n",
      "[1 2 3]\n"
     ]
    }
   ],
   "source": [
    "#cast to a specific type\n",
    "x = np.array([\"1\",\"2\",\"3\"])\n",
    "print(x)\n",
    "x = x.astype(np.int32)\n",
    "print(x)"
   ]
  },
  {
   "cell_type": "code",
   "execution_count": 19,
   "metadata": {
    "colab": {
     "base_uri": "https://localhost:8080/",
     "height": 433
    },
    "colab_type": "code",
    "id": "9LwDtmgXMEbr",
    "outputId": "82e847fc-5555-4852-f8fd-5c361845a541"
   },
   "outputs": [
    {
     "name": "stdout",
     "output_type": "stream",
     "text": [
      "[[ 3  4  3]\n",
      " [24 25 24]\n",
      " [ 2  2  2]]\n",
      "\n",
      "[[21 18 15]\n",
      " [54 45 36]\n",
      " [11  9  7]]\n",
      "\n",
      "[[ 4  4  4]\n",
      " [10 10 10]\n",
      " [ 3  3  3]]\n",
      "\n",
      "[[-2  0  2]\n",
      " [-2  0  2]\n",
      " [-1 -1 -1]]\n",
      "\n",
      "[[0.33333333 1.         3.        ]\n",
      " [0.66666667 1.         1.5       ]\n",
      " [0.5        0.5        0.5       ]]\n",
      "\n",
      "[[   1    4    3]\n",
      " [4096 3125 1296]\n",
      " [   1    1    1]]\n",
      "\n"
     ]
    }
   ],
   "source": [
    "#Arithematic operations between equal-sized arrays\n",
    "x = np.array([[1,2,3],[4,5,6],[1,1,1]])\n",
    "y = np.array([[3,2,1],[6,5,4],[2,2,2]])\n",
    "\n",
    "#Element-wise multiplication\n",
    "print(x*y) #print(np.multiply(x,y))\n",
    "print()\n",
    "#Matrix multiplication\n",
    "print(np.dot(x,y))\n",
    "print()\n",
    "print(x+y) #print(np.add(x,y))\n",
    "print()\n",
    "print(x-y) #print(np.subtract(x,y))\n",
    "print()\n",
    "print(x/y) #print(np.divide(x,y))\n",
    "print()\n",
    "print(x**y) #print(np.power(x,y))\n",
    "print()\n",
    "#print(np.sqrt(x))\n",
    "#print(np.exp(x))"
   ]
  },
  {
   "cell_type": "code",
   "execution_count": 20,
   "metadata": {
    "colab": {
     "base_uri": "https://localhost:8080/",
     "height": 260
    },
    "colab_type": "code",
    "id": "U8Ny5LK6MEby",
    "outputId": "cf45a44c-60a0-40eb-dc06-5df278088933"
   },
   "outputs": [
    {
     "name": "stdout",
     "output_type": "stream",
     "text": [
      "[[ 2  4  6]\n",
      " [ 8 10 12]]\n",
      "\n",
      "[[3 4 5]\n",
      " [6 7 8]]\n",
      "\n",
      "[[ 1  0 -1]\n",
      " [-2 -3 -4]]\n",
      "\n",
      "[[2.         1.         0.66666667]\n",
      " [0.5        0.4        0.33333333]]\n",
      "\n",
      "[[ 1  4  9]\n",
      " [16 25 36]]\n"
     ]
    }
   ],
   "source": [
    "#Arithematic operations between arrays and scalars\n",
    "x = np.array([[1,2,3],[4,5,6]])\n",
    "\n",
    "print(x*2)\n",
    "print()\n",
    "print(x+2)\n",
    "print()\n",
    "print(2-x)\n",
    "print()\n",
    "print(2/x)\n",
    "print()\n",
    "print(x**2)"
   ]
  },
  {
   "cell_type": "code",
   "execution_count": 21,
   "metadata": {
    "colab": {
     "base_uri": "https://localhost:8080/",
     "height": 251
    },
    "colab_type": "code",
    "id": "MTK6qqBXNN7B",
    "outputId": "c47fb682-a421-464f-bca3-773c320f3d31"
   },
   "outputs": [
    {
     "name": "stdout",
     "output_type": "stream",
     "text": [
      "[[ 0 -2  3]\n",
      " [ 4  2 -1]\n",
      " [ 4 -3  0]\n",
      " [-6 -1  2]\n",
      " [-4 -3 -1]]\n",
      "\n",
      "[3.6 2.2 1.4]\n",
      "\n",
      "[1.66666667 2.33333333 2.33333333 3.         2.66666667]\n",
      "\n",
      "[4 2 3]\n",
      "\n",
      "-6\n"
     ]
    }
   ],
   "source": [
    "#Some mathematical operations\n",
    "\n",
    "x = np.random.randint(-6,6,size=(5,3))\n",
    "print(x)\n",
    "print(\"\")\n",
    "#Get absolute value\n",
    "abs_values = np.abs(x)\n",
    "#Get mean\n",
    "print(np.mean(abs_values,axis=0))\n",
    "print(\"\")\n",
    "print(np.mean(abs_values,axis=1))\n",
    "print(\"\")\n",
    "#Get max\n",
    "print(np.amax(x,axis=0))\n",
    "print(\"\")\n",
    "#Get min\n",
    "print(np.amin(x))"
   ]
  },
  {
   "cell_type": "code",
   "execution_count": 22,
   "metadata": {
    "colab": {
     "base_uri": "https://localhost:8080/",
     "height": 277
    },
    "colab_type": "code",
    "id": "778yZb5IMEb5",
    "outputId": "797d3c18-5223-4613-9d62-5fd87885ae5d"
   },
   "outputs": [
    {
     "name": "stdout",
     "output_type": "stream",
     "text": [
      "[[[1. 1. 1. 1.]\n",
      "  [1. 1. 1. 1.]\n",
      "  [1. 1. 1. 1.]]\n",
      "\n",
      " [[1. 1. 1. 1.]\n",
      "  [1. 1. 1. 1.]\n",
      "  [1. 1. 1. 1.]]]\n",
      "\n",
      "[[[ 1. 10. 10. 10.]\n",
      "  [ 1. 10. 10. 10.]\n",
      "  [ 1.  1.  1.  1.]]\n",
      "\n",
      " [[ 1.  1.  1.  1.]\n",
      "  [ 1.  1.  1.  1.]\n",
      "  [ 1.  1.  1.  1.]]]\n"
     ]
    }
   ],
   "source": [
    "#array slices are just views and not copies\n",
    "x = np.ones((2,3,4))\n",
    "print(x)\n",
    "print(\"\")\n",
    "\n",
    "x_slice = x[0,:2,1:] # 1: means from 1 till the end, :2 means from the beginning till 2\n",
    "x_slice[:] = 10   #changing view(x_slice) changes original x\n",
    "print(x)"
   ]
  },
  {
   "cell_type": "code",
   "execution_count": 23,
   "metadata": {
    "colab": {
     "base_uri": "https://localhost:8080/",
     "height": 277
    },
    "colab_type": "code",
    "id": "etkAo73fMEb-",
    "outputId": "c52ea158-2b72-4e28-c978-1455e4d74108"
   },
   "outputs": [
    {
     "name": "stdout",
     "output_type": "stream",
     "text": [
      "[[[1. 1. 1. 1.]\n",
      "  [1. 1. 1. 1.]\n",
      "  [1. 1. 1. 1.]]\n",
      "\n",
      " [[1. 1. 1. 1.]\n",
      "  [1. 1. 1. 1.]\n",
      "  [1. 1. 1. 1.]]]\n",
      "\n",
      "[[[1. 1. 1. 1.]\n",
      "  [1. 1. 1. 1.]\n",
      "  [1. 1. 1. 1.]]\n",
      "\n",
      " [[1. 1. 1. 1.]\n",
      "  [1. 1. 1. 1.]\n",
      "  [1. 1. 1. 1.]]]\n"
     ]
    }
   ],
   "source": [
    "#array.copy() creates a copy\n",
    "x = np.ones((2,3,4))\n",
    "print(x)\n",
    "print(\"\")\n",
    "\n",
    "x_slice = x[0,:2,1:].copy()\n",
    "x_slice[:] = 10   #changing copy doesn't change original x\n",
    "print(x)"
   ]
  },
  {
   "cell_type": "code",
   "execution_count": 24,
   "metadata": {
    "colab": {
     "base_uri": "https://localhost:8080/",
     "height": 260
    },
    "colab_type": "code",
    "id": "90hSLqYQMEcF",
    "outputId": "5663ca5a-58c2-48a9-f71b-35e29cb506ab"
   },
   "outputs": [
    {
     "name": "stdout",
     "output_type": "stream",
     "text": [
      "[[-1.33364997 -0.63756329  2.50945359 -0.11401727]\n",
      " [ 0.27491513  0.26171913  0.38789219  0.97086614]\n",
      " [ 0.80715971  0.40867131 -2.50535345 -2.10910911]\n",
      " [ 0.70106196 -0.94909984 -1.49922443  0.18998976]]\n",
      "\n",
      "[[-1.33364997  0.27491513  0.80715971  0.70106196]\n",
      " [-0.63756329  0.26171913  0.40867131 -0.94909984]\n",
      " [ 2.50945359  0.38789219 -2.50535345 -1.49922443]\n",
      " [-0.11401727  0.97086614 -2.10910911  0.18998976]]\n",
      "\n",
      "[[ 1.85421439  4.46613304  2.03321543  0.86145863]\n",
      " [-0.65767021 -0.41400287 -0.22931371 -0.82473939]\n",
      " [ 1.17961163  2.22241121  0.98113233  0.24289446]\n",
      " [-0.81905097 -1.01096431 -0.90591218 -0.11865157]]\n"
     ]
    }
   ],
   "source": [
    "#transposing and inversing\n",
    "x = np.random.randn(4,4)\n",
    "print(x)\n",
    "print(\"\")\n",
    "print(x.T)\n",
    "print(\"\")\n",
    "print(np.linalg.inv(x))"
   ]
  },
  {
   "cell_type": "code",
   "execution_count": 25,
   "metadata": {
    "colab": {},
    "colab_type": "code",
    "id": "6JJzoV23MEcP"
   },
   "outputs": [
    {
     "name": "stdout",
     "output_type": "stream",
     "text": [
      "[[0 1 2]\n",
      " [2 1 0]\n",
      " [0 2 2]]\n",
      "4.0\n"
     ]
    }
   ],
   "source": [
    "#determinant\n",
    "x = np.random.randint(4, size=(3,3))\n",
    "print(x)\n",
    "print(np.linalg.det(x))"
   ]
  },
  {
   "cell_type": "code",
   "execution_count": 26,
   "metadata": {
    "colab": {},
    "colab_type": "code",
    "id": "KrvN19_UZ9EJ"
   },
   "outputs": [
    {
     "name": "stdout",
     "output_type": "stream",
     "text": [
      "(2, 3)\n",
      "(1, 3)\n",
      "[[ 4 10 12]\n",
      " [ 8 15 18]]\n"
     ]
    }
   ],
   "source": [
    "#Broadcasting \n",
    "x = np.array([[1,2,2],[2,3,3]])\n",
    "print(x.shape)\n",
    "y = np.array([[4,5,6]])\n",
    "print(y.shape)\n",
    "z = x*y\n",
    "print(z)"
   ]
  },
  {
   "cell_type": "markdown",
   "metadata": {
    "colab_type": "text",
    "id": "BwwQ-KD5Y64d"
   },
   "source": [
    "####(3) Pandas: \n",
    "is an open-source Python Library providing high-performance data manipulation and analysis tool using its powerful data structures."
   ]
  },
  {
   "cell_type": "code",
   "execution_count": 27,
   "metadata": {
    "colab": {},
    "colab_type": "code",
    "id": "HIIUY4TfY-up"
   },
   "outputs": [],
   "source": [
    "import pandas as pd"
   ]
  },
  {
   "cell_type": "code",
   "execution_count": 28,
   "metadata": {
    "colab": {},
    "colab_type": "code",
    "id": "5IhI1Dz1dZbj"
   },
   "outputs": [
    {
     "name": "stdout",
     "output_type": "stream",
     "text": [
      "     First  Second  Third\n",
      "1st     11      12     13\n",
      "2nd     14      15     16\n"
     ]
    }
   ],
   "source": [
    "#Creating DataFrame from list\n",
    "x = [[11,12,13],[14,15,16]]\n",
    "df = pd.DataFrame(x,index=['1st','2nd'], columns=['First','Second','Third'])\n",
    "print(df)"
   ]
  },
  {
   "cell_type": "code",
   "execution_count": 29,
   "metadata": {
    "colab": {},
    "colab_type": "code",
    "id": "i8-mBZZThnhq"
   },
   "outputs": [
    {
     "name": "stdout",
     "output_type": "stream",
     "text": [
      "1st    11\n",
      "2nd    14\n",
      "Name: First, dtype: int64\n",
      "\n",
      "     First  Second  Third  Fourth\n",
      "1st     11      12     13      45\n",
      "2nd     14      15     16      46\n",
      "\n",
      "     First  Second  Third  Fourth  Sum of 1st & 2nd\n",
      "1st     11      12     13      45                23\n",
      "2nd     14      15     16      46                29\n",
      "\n",
      "     First  Third  Fourth  Sum of 1st & 2nd\n",
      "1st     11     13      45                23\n",
      "2nd     14     16      46                29\n"
     ]
    }
   ],
   "source": [
    "#Column Selection, Addition and Deletion\n",
    "print(df['First']) #Selection\n",
    "print(\"\")\n",
    "df['Fourth'] = pd.Series([45,46],index=['1st','2nd']) #Addition\n",
    "print(df)\n",
    "print(\"\")\n",
    "df['Sum of 1st & 2nd'] = df['First']+df['Second'] #Addition relating exsiting columns\n",
    "print(df)\n",
    "print(\"\")\n",
    "del df['Second'] #Deletion\n",
    "print(df)"
   ]
  },
  {
   "cell_type": "code",
   "execution_count": 30,
   "metadata": {
    "colab": {},
    "colab_type": "code",
    "id": "G2Ns1S1sjvtK"
   },
   "outputs": [
    {
     "name": "stdout",
     "output_type": "stream",
     "text": [
      "First               11\n",
      "Third               13\n",
      "Fourth              45\n",
      "Sum of 1st & 2nd    23\n",
      "Name: 1st, dtype: int64\n",
      "\n",
      "First               11\n",
      "Third               13\n",
      "Fourth              45\n",
      "Sum of 1st & 2nd    23\n",
      "Name: 1st, dtype: int64\n",
      "\n",
      "     First  Third  Fourth  Sum of 1st & 2nd\n",
      "1st     11     13      45                23\n",
      "2nd     14     16      46                29\n",
      "3rd    100    101     102               103\n",
      "4th    201    202     203               204\n",
      "\n",
      "     First  Third  Fourth  Sum of 1st & 2nd\n",
      "1st     11     13      45                23\n",
      "2nd     14     16      46                29\n",
      "4th    201    202     203               204\n"
     ]
    }
   ],
   "source": [
    "#Row Selection, Addition and Deletion\n",
    "print(df.loc['1st']) #Selection\n",
    "print(\"\")\n",
    "print(df.iloc[0])#Selection with index number\n",
    "print(\"\")\n",
    "df2 = pd.DataFrame([[100,101,102,103],[201,202,203,204]],index = ['3rd','4th'],columns=['First','Third','Fourth','Sum of 1st & 2nd'])\n",
    "# reset index\n",
    "df = df.append(df2)\n",
    "print(df)\n",
    "print(\"\")\n",
    "df = df.drop('3rd')\n",
    "print(df)"
   ]
  },
  {
   "cell_type": "code",
   "execution_count": 31,
   "metadata": {
    "colab": {},
    "colab_type": "code",
    "id": "i8jDsO_9nDXi"
   },
   "outputs": [
    {
     "name": "stdout",
     "output_type": "stream",
     "text": [
      "   Height  Weight        Result\n",
      "0     140      90  not accepted\n",
      "1     190      88      accepted\n",
      "2     174      81      accepted\n",
      "3     183     130  not accepted\n",
      "4     168      72      accepted\n",
      "\n",
      "   Height  Weight  Result\n",
      "0     140      90       0\n",
      "1     190      88       1\n",
      "2     174      81       1\n",
      "3     183     130       0\n",
      "4     168      72       1\n"
     ]
    }
   ],
   "source": [
    "#Replacing data\n",
    "data = [[140,90,'not accepted'],[190,88,'accepted'],[174,81,'accepted'],[183,130,'not accepted'],[168,72,'accepted']]\n",
    "df = pd.DataFrame(data ,columns=['Height','Weight','Result'])\n",
    "print(df)\n",
    "print(\"\")\n",
    "df['Result'].replace(['not accepted','accepted'],[0,1],inplace=True)\n",
    "# use apply for more complex mapping with either lambda or defined functions i.e. weights<90 vs weights>90\n",
    "print(df)"
   ]
  },
  {
   "cell_type": "code",
   "execution_count": 32,
   "metadata": {
    "colab": {},
    "colab_type": "code",
    "id": "w74CEeDiqoRl"
   },
   "outputs": [
    {
     "name": "stdout",
     "output_type": "stream",
     "text": [
      "[[140  90   0]\n",
      " [190  88   1]\n",
      " [174  81   1]\n",
      " [183 130   0]\n",
      " [168  72   1]]\n"
     ]
    }
   ],
   "source": [
    "#Converting from DataFrame to NumPy array\n",
    "df_array = df.values\n",
    "print(df_array)"
   ]
  },
  {
   "cell_type": "markdown",
   "metadata": {
    "colab_type": "text",
    "id": "pKEEINKHMuIo"
   },
   "source": [
    "###Part 2: Implementing 2 Layer Neural Network using NumPy\n",
    "\n",
    "<img src=\"https://drive.google.com/open?id=1g-cPHHCygBjzLAccFK8a16w-08YOAL93\">"
   ]
  },
  {
   "cell_type": "markdown",
   "metadata": {
    "colab_type": "text",
    "id": "5TLNAT_eg8Jb"
   },
   "source": [
    "####(1) Importing required libraries "
   ]
  },
  {
   "cell_type": "code",
   "execution_count": 33,
   "metadata": {
    "colab": {},
    "colab_type": "code",
    "id": "SDk3qNurPrMe"
   },
   "outputs": [],
   "source": [
    "import pandas as pd\n",
    "import numpy as np\n",
    "import matplotlib.pyplot as plt\n",
    "from sklearn.model_selection import train_test_split\n",
    "import io\n",
    "#from google.colab import files\n",
    "#use sklearn\n",
    "#from sklearn.datasets import load_iris"
   ]
  },
  {
   "cell_type": "code",
   "execution_count": 34,
   "metadata": {},
   "outputs": [
    {
     "name": "stdout",
     "output_type": "stream",
     "text": [
      "2\n",
      "[[0. 1. 0.]\n",
      " [1. 0. 0.]\n",
      " [0. 0. 1.]]\n"
     ]
    }
   ],
   "source": [
    "a = np.array([1, 0,2 ])\n",
    "b = np.zeros((a.size, a.max()+1))\n",
    "b[np.arange(a.size),a] = 1\n",
    "print(a.max())\n",
    "print(b)"
   ]
  },
  {
   "cell_type": "markdown",
   "metadata": {
    "colab_type": "text",
    "id": "fUng9QWBhjQV"
   },
   "source": [
    "####(2) Loading data "
   ]
  },
  {
   "cell_type": "code",
   "execution_count": 35,
   "metadata": {
    "colab": {
     "base_uri": "https://localhost:8080/",
     "height": 260,
     "resources": {
      "http://localhost:8080/nbextensions/google.colab/files.js": {
       "data": "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",
       "headers": [
        [
         "content-type",
         "application/javascript"
        ]
       ],
       "ok": true,
       "status": 200,
       "status_text": ""
      }
     }
    },
    "colab_type": "code",
    "id": "HqiCmpHCfyZY",
    "outputId": "f2e8c5b8-0361-4d8d-a81c-7acb5aef64a8"
   },
   "outputs": [
    {
     "data": {
      "text/html": [
       "<div>\n",
       "<style scoped>\n",
       "    .dataframe tbody tr th:only-of-type {\n",
       "        vertical-align: middle;\n",
       "    }\n",
       "\n",
       "    .dataframe tbody tr th {\n",
       "        vertical-align: top;\n",
       "    }\n",
       "\n",
       "    .dataframe thead th {\n",
       "        text-align: right;\n",
       "    }\n",
       "</style>\n",
       "<table border=\"1\" class=\"dataframe\">\n",
       "  <thead>\n",
       "    <tr style=\"text-align: right;\">\n",
       "      <th></th>\n",
       "      <th>Id</th>\n",
       "      <th>SepalLengthCm</th>\n",
       "      <th>SepalWidthCm</th>\n",
       "      <th>PetalLengthCm</th>\n",
       "      <th>PetalWidthCm</th>\n",
       "      <th>Species</th>\n",
       "    </tr>\n",
       "  </thead>\n",
       "  <tbody>\n",
       "    <tr>\n",
       "      <th>0</th>\n",
       "      <td>1</td>\n",
       "      <td>5.1</td>\n",
       "      <td>3.5</td>\n",
       "      <td>1.4</td>\n",
       "      <td>0.2</td>\n",
       "      <td>Iris-setosa</td>\n",
       "    </tr>\n",
       "    <tr>\n",
       "      <th>1</th>\n",
       "      <td>2</td>\n",
       "      <td>4.9</td>\n",
       "      <td>3.0</td>\n",
       "      <td>1.4</td>\n",
       "      <td>0.2</td>\n",
       "      <td>Iris-setosa</td>\n",
       "    </tr>\n",
       "    <tr>\n",
       "      <th>2</th>\n",
       "      <td>3</td>\n",
       "      <td>4.7</td>\n",
       "      <td>3.2</td>\n",
       "      <td>1.3</td>\n",
       "      <td>0.2</td>\n",
       "      <td>Iris-setosa</td>\n",
       "    </tr>\n",
       "    <tr>\n",
       "      <th>3</th>\n",
       "      <td>4</td>\n",
       "      <td>4.6</td>\n",
       "      <td>3.1</td>\n",
       "      <td>1.5</td>\n",
       "      <td>0.2</td>\n",
       "      <td>Iris-setosa</td>\n",
       "    </tr>\n",
       "    <tr>\n",
       "      <th>4</th>\n",
       "      <td>5</td>\n",
       "      <td>5.0</td>\n",
       "      <td>3.6</td>\n",
       "      <td>1.4</td>\n",
       "      <td>0.2</td>\n",
       "      <td>Iris-setosa</td>\n",
       "    </tr>\n",
       "  </tbody>\n",
       "</table>\n",
       "</div>"
      ],
      "text/plain": [
       "   Id  SepalLengthCm  SepalWidthCm  PetalLengthCm  PetalWidthCm      Species\n",
       "0   1            5.1           3.5            1.4           0.2  Iris-setosa\n",
       "1   2            4.9           3.0            1.4           0.2  Iris-setosa\n",
       "2   3            4.7           3.2            1.3           0.2  Iris-setosa\n",
       "3   4            4.6           3.1            1.5           0.2  Iris-setosa\n",
       "4   5            5.0           3.6            1.4           0.2  Iris-setosa"
      ]
     },
     "execution_count": 35,
     "metadata": {},
     "output_type": "execute_result"
    }
   ],
   "source": [
    "#read data from csv file\n",
    "#uploaded = files.upload()\n",
    "iris = pd.read_csv('Iris.csv')\n",
    "#iris = load_iris()\n",
    "iris.head()"
   ]
  },
  {
   "cell_type": "markdown",
   "metadata": {
    "colab_type": "text",
    "id": "AFWkqaIHhwh-"
   },
   "source": [
    "####(3) Helper functions"
   ]
  },
  {
   "cell_type": "code",
   "execution_count": 36,
   "metadata": {
    "colab": {},
    "colab_type": "code",
    "id": "Kc8HmU0VQEdd"
   },
   "outputs": [],
   "source": [
    "#Convert array to one-hot encoding\n",
    "\n",
    "##########TO BE DONE##########\n",
    "# Write a function that takes an array of numeric classes and turns it into\n",
    "# one-hot encoded array meaning that if we have [0,1,2], \n",
    "# it becomes [[1,0,0],[0,1,0],[0,0,1]]\n",
    "def to_one_hot(Y):\n",
    "    binarized = np.zeros((Y.size,Y.max()+1))\n",
    "    binarized[np.arange(Y.size),Y] =1\n",
    "    return binarized\n",
    "##############################\n",
    "  \n",
    "##########TO BE DONE##########\n",
    "# Write a function that takes an array and performs the sigmoid function on all \n",
    "# its elements\n",
    "# make it take two arguments, the firs one is the matrix and the second one\n",
    "# is a boolean input \"derivative\" which if true, it computer the derivative of\n",
    "# the sigmoid function. Make the default to be false\n",
    "def sigmoid(x, deriv = False):\n",
    "    sig = 1/(1 + np.exp(-x))\n",
    "    if deriv == True:\n",
    "        sig = sig*(1-sig)\n",
    "    return sig\n",
    "##############################\n",
    "  \n",
    "  \n",
    "# Normalize array\n",
    "def normalize(X, axis=-1, order=2):\n",
    "    l2 = np.atleast_1d(np.linalg.norm(X, order, axis))\n",
    "    l2[l2 == 0] = 1\n",
    "    return X / np.expand_dims(l2, axis)"
   ]
  },
  {
   "cell_type": "markdown",
   "metadata": {
    "colab_type": "text",
    "id": "kXdEj4rZh4Vz"
   },
   "source": [
    "####(4) Preparing data (Preprocessing)"
   ]
  },
  {
   "cell_type": "code",
   "execution_count": 37,
   "metadata": {
    "colab": {
     "base_uri": "https://localhost:8080/",
     "height": 204
    },
    "colab_type": "code",
    "id": "WJHIj_YpF4A_",
    "outputId": "fb308c27-2c75-4f77-8cc4-3fd1a467d4e0"
   },
   "outputs": [
    {
     "data": {
      "text/html": [
       "<div>\n",
       "<style scoped>\n",
       "    .dataframe tbody tr th:only-of-type {\n",
       "        vertical-align: middle;\n",
       "    }\n",
       "\n",
       "    .dataframe tbody tr th {\n",
       "        vertical-align: top;\n",
       "    }\n",
       "\n",
       "    .dataframe thead th {\n",
       "        text-align: right;\n",
       "    }\n",
       "</style>\n",
       "<table border=\"1\" class=\"dataframe\">\n",
       "  <thead>\n",
       "    <tr style=\"text-align: right;\">\n",
       "      <th></th>\n",
       "      <th>Id</th>\n",
       "      <th>SepalLengthCm</th>\n",
       "      <th>SepalWidthCm</th>\n",
       "      <th>PetalLengthCm</th>\n",
       "      <th>PetalWidthCm</th>\n",
       "      <th>Species</th>\n",
       "    </tr>\n",
       "  </thead>\n",
       "  <tbody>\n",
       "    <tr>\n",
       "      <th>0</th>\n",
       "      <td>1</td>\n",
       "      <td>5.1</td>\n",
       "      <td>3.5</td>\n",
       "      <td>1.4</td>\n",
       "      <td>0.2</td>\n",
       "      <td>0</td>\n",
       "    </tr>\n",
       "    <tr>\n",
       "      <th>1</th>\n",
       "      <td>2</td>\n",
       "      <td>4.9</td>\n",
       "      <td>3.0</td>\n",
       "      <td>1.4</td>\n",
       "      <td>0.2</td>\n",
       "      <td>0</td>\n",
       "    </tr>\n",
       "    <tr>\n",
       "      <th>2</th>\n",
       "      <td>3</td>\n",
       "      <td>4.7</td>\n",
       "      <td>3.2</td>\n",
       "      <td>1.3</td>\n",
       "      <td>0.2</td>\n",
       "      <td>0</td>\n",
       "    </tr>\n",
       "    <tr>\n",
       "      <th>3</th>\n",
       "      <td>4</td>\n",
       "      <td>4.6</td>\n",
       "      <td>3.1</td>\n",
       "      <td>1.5</td>\n",
       "      <td>0.2</td>\n",
       "      <td>0</td>\n",
       "    </tr>\n",
       "    <tr>\n",
       "      <th>4</th>\n",
       "      <td>5</td>\n",
       "      <td>5.0</td>\n",
       "      <td>3.6</td>\n",
       "      <td>1.4</td>\n",
       "      <td>0.2</td>\n",
       "      <td>0</td>\n",
       "    </tr>\n",
       "  </tbody>\n",
       "</table>\n",
       "</div>"
      ],
      "text/plain": [
       "   Id  SepalLengthCm  SepalWidthCm  PetalLengthCm  PetalWidthCm  Species\n",
       "0   1            5.1           3.5            1.4           0.2        0\n",
       "1   2            4.9           3.0            1.4           0.2        0\n",
       "2   3            4.7           3.2            1.3           0.2        0\n",
       "3   4            4.6           3.1            1.5           0.2        0\n",
       "4   5            5.0           3.6            1.4           0.2        0"
      ]
     },
     "execution_count": 37,
     "metadata": {},
     "output_type": "execute_result"
    }
   ],
   "source": [
    "##########TO BE DONE########## grade:\n",
    "#Data cleanup\n",
    "#Replace the species with 0, 1 or 2: From categorical data to numeric data\n",
    "iris['Species'].replace(['Iris-setosa','Iris-versicolor','Iris-virginica'],[0,1,2],inplace=True)\n",
    "iris.head()\n",
    "##############################"
   ]
  },
  {
   "cell_type": "code",
   "execution_count": 38,
   "metadata": {
    "colab": {},
    "colab_type": "code",
    "id": "nPQiheKGGBlU"
   },
   "outputs": [],
   "source": [
    "#Get input\n",
    "columns1 = ['SepalLengthCm', 'SepalWidthCm', 'PetalLengthCm', 'PetalWidthCm']\n",
    "x = pd.DataFrame(iris, columns=columns1)\n",
    "#x1=x.values\n",
    "x1 = normalize(x.values)"
   ]
  },
  {
   "cell_type": "code",
   "execution_count": 51,
   "metadata": {
    "colab": {},
    "colab_type": "code",
    "id": "IE8Oq4fyHDms"
   },
   "outputs": [],
   "source": [
    "#Get Output, flatten and encode to one-hot\n",
    "columns2 = ['Species']\n",
    "y = pd.DataFrame(iris, columns=columns2)\n",
    "#Convert the DataFrame to NumPy array\n",
    "y = y.values\n",
    "#Set it to be one dimensional\n",
    "y = y.flatten()\n",
    "#Convert to one-hot encoded array size=(no_instances,no_attributes)\n",
    "#print(y)\n",
    "y = to_one_hot(y)\n"
   ]
  },
  {
   "cell_type": "markdown",
   "metadata": {
    "colab_type": "text",
    "id": "NsTW8tlgiA_C"
   },
   "source": [
    "####(5) Training"
   ]
  },
  {
   "cell_type": "code",
   "execution_count": 40,
   "metadata": {},
   "outputs": [],
   "source": [
    "X_train, X_test, y_train, y_test = train_test_split(x1, y, test_size=0.33)"
   ]
  },
  {
   "cell_type": "code",
   "execution_count": 50,
   "metadata": {
    "colab": {
     "base_uri": "https://localhost:8080/",
     "height": 379
    },
    "colab_type": "code",
    "id": "csNm3fvAKNj9",
    "outputId": "efbee7da-0b63-4051-92fb-057c323070c2"
   },
   "outputs": [
    {
     "name": "stdout",
     "output_type": "stream",
     "text": [
      "(1, 3)\n",
      "(100, 4)\n",
      "(100, 3)\n",
      "(100, 3)\n",
      "(100, 3)\n",
      "(100, 3)\n",
      "(100, 3)\n",
      "(100, 3)\n",
      "(100, 3)\n",
      "(100, 3)\n",
      "(100, 3)\n",
      "(100, 3)\n",
      "(100, 3)\n",
      "(100, 3)\n",
      "(100, 3)\n",
      "(100, 3)\n",
      "(100, 3)\n",
      "(100, 3)\n",
      "(100, 3)\n",
      "(100, 3)\n",
      "(100, 3)\n",
      "(100, 3)\n"
     ]
    },
    {
     "data": {
      "image/png": "[encoded data removed]",
      "text/plain": [
       "<Figure size 432x288 with 1 Axes>"
      ]
     },
     "metadata": {},
     "output_type": "display_data"
    },
    {
     "name": "stdout",
     "output_type": "stream",
     "text": [
      "Training Accuracy 56.17%\n"
     ]
    }
   ],
   "source": [
    "#Split data to training and validation data\n",
    "X_train, X_test, y_train, y_test = train_test_split(x1, y, test_size=0.33)\n",
    "###Main network with 2 layers###\n",
    "\n",
    "#number of iterations\n",
    "iter = 10 \n",
    "\n",
    "##########TO BE DONE##########\n",
    "#Initialize the weights of layer 2: Determine the size of the 2D array\n",
    "#Weights\n",
    "w0 = 2*np.random.random(( 4,3 )) - 1\n",
    "w1 = 2*np.random.random(( 3,3 )) - 1\n",
    "##############################\n",
    "\n",
    "\n",
    "##########TO BE DONE##########\n",
    "#Determine the size of the bias array for layer 1\n",
    "#Bias\n",
    "w0_dims = w0.shape\n",
    "(r_w0,c_w0) = w0_dims\n",
    "b0 = np.zeros(( 1, c_w0 ))\n",
    "print(b0.shape)\n",
    "print(X_train.shape)\n",
    "b1 = np.zeros((1,3))\n",
    "##############################\n",
    "\n",
    "#learning rate\n",
    "sigma = 0.1\n",
    "\n",
    "#Errors array for every iteration\n",
    "errors = []\n",
    "\n",
    "#Train\n",
    "for i in range(iter):\n",
    "\n",
    "    ##########TO BE DONE##########\n",
    "    # the input to this function is the input data and the output is the label\n",
    "    #Feed forward\n",
    "    a0 = X_train\n",
    "    z1 = np.dot(a0,w0) + b0\n",
    "    a1 = sigmoid(z1,deriv = False)\n",
    "    z2 = np.dot(a1,w1) + b1\n",
    "    a2 = sigmoid(z2,deriv = False)\n",
    "    ##############################\n",
    "    #Back propagation using gradient descent\n",
    "    a2_error = y_train - a2\n",
    "    print(a2_error.shape)\n",
    "    print(a2.shape)\n",
    "    a2_delta = a2_error * sigmoid(a2, deriv=True)\n",
    "    a1_error = a2_delta.dot(w1.T)\n",
    "    a1_delta = a1_error * sigmoid(a1, deriv=True)\n",
    "    w1 += a1.T.dot(a2_delta) * sigma\n",
    "    w0 += a0.T.dot(a1_delta) * sigma\n",
    "    error = np.mean(np.abs(a2_error))\n",
    "    errors.append(error)\n",
    "    accuracy = (1 - error) * 100\n",
    "\n",
    "#Plot the accuracy graph\n",
    "plt.plot(errors)\n",
    "plt.xlabel('Training')\n",
    "plt.ylabel('Error')\n",
    "plt.show()\n",
    "        \n",
    "print(\"Training Accuracy \" + str(round(accuracy,2)) + \"%\")"
   ]
  },
  {
   "cell_type": "markdown",
   "metadata": {
    "colab_type": "text",
    "id": "HVPUy4ZviEul"
   },
   "source": [
    "####(6) Validation"
   ]
  },
  {
   "cell_type": "code",
   "execution_count": 42,
   "metadata": {
    "colab": {
     "base_uri": "https://localhost:8080/",
     "height": 35
    },
    "colab_type": "code",
    "id": "Z2DY-ZYJLL-B",
    "outputId": "a80c745d-c859-4c37-869c-14045eaa572c"
   },
   "outputs": [
    {
     "name": "stdout",
     "output_type": "stream",
     "text": [
      "Validation Accuracy 86.17%\n"
     ]
    }
   ],
   "source": [
    "#Validation\n",
    "# We test our trained model to see how it performs on the test data\n",
    "##########TO BE DONE##########\n",
    "# the input to this part is the input test data with its labels and the output is the accuracy of the model\n",
    "#Feed forward\n",
    "a0 = X_test\n",
    "z1 = np.dot(a0,w0) + b0\n",
    "a1 = sigmoid(z1,deriv = False)\n",
    "z2 = np.dot(a1,w1) + b1\n",
    "a2 = sigmoid(z2,deriv = False)\n",
    "\n",
    "a2_error = y_test - a2\n",
    "error = np.mean(np.abs(a2_error))\n",
    "accuracy = (1 - error) * 100\n",
    "        \n",
    "\n",
    "#############################\n",
    "print(\"Validation Accuracy \" + str(round(accuracy,2)) + \"%\")\n"
   ]
  },
  {
   "cell_type": "markdown",
   "metadata": {
    "colab_type": "text",
    "id": "6fd9tXMCr5OY"
   },
   "source": [
    "###References\n",
    "1- *https://pandas.pydata.org/pandas-docs/stable/* <br>\n",
    "2- *https://docs.scipy.org/doc/*"
   ]
  },
  {
   "cell_type": "code",
   "execution_count": null,
   "metadata": {},
   "outputs": [],
   "source": []
  },
  {
   "cell_type": "code",
   "execution_count": null,
   "metadata": {},
   "outputs": [],
   "source": []
  }
 ],
 "metadata": {
  "colab": {
   "collapsed_sections": [
    "JS2CLuIwPbZV",
    "K2jel9v2PfBc",
    "unAJCDFKPigL",
    "BwwQ-KD5Y64d",
    "pKEEINKHMuIo",
    "5TLNAT_eg8Jb",
    "fUng9QWBhjQV",
    "AFWkqaIHhwh-",
    "kXdEj4rZh4Vz",
    "NsTW8tlgiA_C",
    "HVPUy4ZviEul"
   ],
   "name": "Lab1_CIE555.ipynb",
   "provenance": [],
   "version": "0.3.2"
  },
  "kernelspec": {
   "display_name": "Python 3",
   "language": "python",
   "name": "python3"
  },
  "language_info": {
   "codemirror_mode": {
    "name": "ipython",
    "version": 3
   },
   "file_extension": ".py",
   "mimetype": "text/x-python",
   "name": "python",
   "nbconvert_exporter": "python",
   "pygments_lexer": "ipython3",
   "version": "3.7.0"
  }
 },
 "nbformat": 4,
 "nbformat_minor": 1
}
