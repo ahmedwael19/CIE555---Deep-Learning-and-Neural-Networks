{
 "cells": [
  {
   "cell_type": "code",
   "execution_count": 1,
   "metadata": {},
   "outputs": [
    {
     "ename": "ModuleNotFoundError",
     "evalue": "No module named 'tensorflow'",
     "output_type": "error",
     "traceback": [
      "\u001b[1;31m---------------------------------------------------------------------------\u001b[0m",
      "\u001b[1;31mModuleNotFoundError\u001b[0m                       Traceback (most recent call last)",
      "\u001b[1;32m<ipython-input-1-e9ae075c333e>\u001b[0m in \u001b[0;36m<module>\u001b[1;34m()\u001b[0m\n\u001b[0;32m      1\u001b[0m \u001b[1;32mimport\u001b[0m \u001b[0mnumpy\u001b[0m \u001b[1;32mas\u001b[0m \u001b[0mnp\u001b[0m\u001b[1;33m\u001b[0m\u001b[0m\n\u001b[1;32m----> 2\u001b[1;33m \u001b[1;32mimport\u001b[0m \u001b[0mtensorflow\u001b[0m \u001b[1;32mas\u001b[0m \u001b[0mtf\u001b[0m\u001b[1;33m\u001b[0m\u001b[0m\n\u001b[0m\u001b[0;32m      3\u001b[0m \u001b[1;32mfrom\u001b[0m \u001b[0mkeras\u001b[0m \u001b[1;32mimport\u001b[0m \u001b[0moptimizers\u001b[0m\u001b[1;33m\u001b[0m\u001b[0m\n\u001b[0;32m      4\u001b[0m \u001b[1;32mimport\u001b[0m \u001b[0mmatplotlib\u001b[0m\u001b[1;33m.\u001b[0m\u001b[0mpyplot\u001b[0m \u001b[1;32mas\u001b[0m \u001b[0mplt\u001b[0m\u001b[1;33m\u001b[0m\u001b[0m\n\u001b[0;32m      5\u001b[0m \u001b[1;32mfrom\u001b[0m \u001b[0msklearn\u001b[0m\u001b[1;33m.\u001b[0m\u001b[0mdatasets\u001b[0m \u001b[1;32mimport\u001b[0m \u001b[0mload_breast_cancer\u001b[0m\u001b[1;33m\u001b[0m\u001b[0m\n",
      "\u001b[1;31mModuleNotFoundError\u001b[0m: No module named 'tensorflow'"
     ]
    }
   ],
   "source": [
    "import numpy as np\n",
    "import tensorflow as tf\n",
    "from keras import optimizers\n",
    "import matplotlib.pyplot as plt\n",
    "from sklearn.datasets import load_breast_cancer\n",
    "from sklearn.model_selection import train_test_split\n",
    "tf.enable_eager_execution()"
   ]
  },
  {
   "cell_type": "code",
   "execution_count": null,
   "metadata": {},
   "outputs": [],
   "source": []
  },
  {
   "cell_type": "code",
   "execution_count": 2,
   "metadata": {},
   "outputs": [],
   "source": [
    "class DataLoader():\n",
    "    def __init__(self):\n",
    "        cancer = load_breast_cancer()\n",
    "        labels = (cancer.target.reshape(-1,1)).astype(np.float32)\n",
    "        xtrain, xtest, ytrain, ytest = train_test_split(cancer.data, labels, test_size = 0.2, random_state = 2)\n",
    "        self.train_data = xtrain\n",
    "        self.train_labels = np.asarray(ytrain, dtype=np.int32) \n",
    "        self.eval_data = xtest\n",
    "        self.eval_labels = np.asarray(ytest, dtype=np.int32) \n",
    "\n",
    "    def get_batch(self, batch_index, batch_size):\n",
    "        start_index = (batch_index-1)*batch_size + 1\n",
    "        end_index = batch_index * batch_size\n",
    "        return self.train_data[start_index:end_index, :], self.train_labels[start_index:end_index]"
   ]
  },
  {
   "cell_type": "code",
   "execution_count": 3,
   "metadata": {},
   "outputs": [
    {
     "name": "stdout",
     "output_type": "stream",
     "text": [
      "(455, 30)\n"
     ]
    }
   ],
   "source": [
    "D = DataLoader()\n",
    "X = D.train_data\n",
    "print(X.shape)"
   ]
  },
  {
   "cell_type": "code",
   "execution_count": 4,
   "metadata": {},
   "outputs": [],
   "source": [
    "class MLP(tf.keras.Model):\n",
    "    def __init__(self):\n",
    "        super().__init__()\n",
    "        self.dense1 = tf.keras.layers.Dense(units=30, activation=tf.nn.sigmoid)\n",
    "        self.dense2 = tf.keras.layers.Dense(units=20, activation=tf.nn.sigmoid)\n",
    "        self.dense3 = tf.keras.layers.Dense(units = 1,  activation=tf.nn.sigmoid)\n",
    "\n",
    "    def call(self, inputs):\n",
    "        x = self.dense1(inputs)\n",
    "        x = self.dense2(x)\n",
    "        x = self.dense3(x)\n",
    "        return x\n",
    "    \n",
    "    def predict(self, inputs):\n",
    "        logits = self(inputs)\n",
    "        return tf.round(logits)\n"
   ]
  },
  {
   "cell_type": "code",
   "execution_count": 5,
   "metadata": {},
   "outputs": [],
   "source": [
    "num_batches = 5\n",
    "batch_size = 91\n",
    "learning_rate = 0.002\n",
    "num_epochs = 1000"
   ]
  },
  {
   "cell_type": "code",
   "execution_count": 6,
   "metadata": {},
   "outputs": [],
   "source": [
    "tf.set_random_seed(2)\n",
    "model = MLP()\n",
    "data_loader = DataLoader()\n",
    "optimizer = tf.train.RMSPropOptimizer(learning_rate=learning_rate)"
   ]
  },
  {
   "cell_type": "code",
   "execution_count": 7,
   "metadata": {},
   "outputs": [
    {
     "data": {
      "image/png": "[encoded data removed]",
      "text/plain": [
       "<Figure size 432x288 with 1 Axes>"
      ]
     },
     "metadata": {},
     "output_type": "display_data"
    }
   ],
   "source": [
    "train_acc_array = []\n",
    "validation_acc_array = []\n",
    "for epoch in range(num_epochs):\n",
    "    for batch_index in range(num_batches):\n",
    "        X, y = data_loader.get_batch(batch_index,batch_size)\n",
    "        with tf.GradientTape() as tape:\n",
    "            y_logit_pred = model(tf.convert_to_tensor(X))\n",
    "            loss = tf.losses.sigmoid_cross_entropy(y, y_logit_pred)\n",
    "            grads = tape.gradient(loss, model.variables)\n",
    "            optimizer.apply_gradients(grads_and_vars=zip(grads, model.variables))\n",
    "            \n",
    "    num_train_samples = np.shape(data_loader.train_labels)[0]\n",
    "    num_eval_samples = np.shape(data_loader.eval_labels)[0]\n",
    "    \n",
    "    y_pred_train = model.predict(data_loader.train_data).numpy()\n",
    "    y_pred_eval = model.predict(data_loader.eval_data).numpy()\n",
    "    train_acc = (sum(y_pred_train == data_loader.train_labels) / num_train_samples)\n",
    "    validation_acc = (sum(y_pred_eval == data_loader.eval_labels) / num_eval_samples)\n",
    "\n",
    "    train_acc_array.append(train_acc) \n",
    "    validation_acc_array.append(validation_acc) \n",
    "\n",
    "plt.plot(train_acc_array, label=\"Training score\", color=\"black\")\n",
    "plt.plot(validation_acc_array, label=\"Cross-validation score\", color=\"dimgrey\")\n",
    "plt.title(\"Training score and Validation Score vs Epochs\")\n",
    "plt.xlabel(\"Epoch\")\n",
    "plt.ylabel(\"Accuracy Score\")\n",
    "plt.tight_layout()\n",
    "plt.legend(loc=\"best\")\n",
    "plt.show()"
   ]
  },
  {
   "cell_type": "code",
   "execution_count": 8,
   "metadata": {},
   "outputs": [
    {
     "name": "stdout",
     "output_type": "stream",
     "text": [
      "train accuracy: 0.938462\n",
      "test accuracy: 0.894737\n"
     ]
    }
   ],
   "source": [
    "num_train_samples = np.shape(data_loader.train_labels)[0]\n",
    "y_pred = model.predict(data_loader.train_data).numpy()\n",
    "print(\"train accuracy: %f\" % (sum(y_pred == data_loader.train_labels) / num_train_samples))\n",
    "num_eval_samples = np.shape(data_loader.eval_labels)[0]\n",
    "y_pred = model.predict(data_loader.eval_data).numpy()\n",
    "print(\"test accuracy: %f\" % (sum(y_pred == data_loader.eval_labels) / num_eval_samples))"
   ]
  }
 ],
 "metadata": {
  "kernelspec": {
   "display_name": "Python 3",
   "language": "python",
   "name": "python3"
  },
  "language_info": {
   "codemirror_mode": {
    "name": "ipython",
    "version": 3
   },
   "file_extension": ".py",
   "mimetype": "text/x-python",
   "name": "python",
   "nbconvert_exporter": "python",
   "pygments_lexer": "ipython3",
   "version": "3.7.0"
  }
 },
 "nbformat": 4,
 "nbformat_minor": 2
}
