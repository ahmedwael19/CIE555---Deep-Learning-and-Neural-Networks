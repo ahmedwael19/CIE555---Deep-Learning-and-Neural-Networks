{
 "cells": [
  {
   "cell_type": "markdown",
   "metadata": {
    "colab_type": "text",
    "id": "9u0QZrJpzZNu"
   },
   "source": [
    "<h4 align=\"right\">19th of February 2019</h4>\n",
    "<h1 align=\"center\">Neural Networks and Deep Learning (CIE 555)</h1>\n",
    "<h2 align=\"center\">Lab 3: PyTorch</h2> <br>"
   ]
  },
  {
   "cell_type": "markdown",
   "metadata": {
    "colab_type": "text",
    "id": "TOGQrVyQYNX0"
   },
   "source": [
    "###(1) Introduction to PyTorch"
   ]
  },
  {
   "cell_type": "code",
   "execution_count": 1,
   "metadata": {
    "colab": {},
    "colab_type": "code",
    "id": "VECBUbyVYpzU"
   },
   "outputs": [
    {
     "ename": "ModuleNotFoundError",
     "evalue": "No module named 'torch'",
     "output_type": "error",
     "traceback": [
      "\u001b[1;31m---------------------------------------------------------------------------\u001b[0m",
      "\u001b[1;31mModuleNotFoundError\u001b[0m                       Traceback (most recent call last)",
      "\u001b[1;32m<ipython-input-1-614cd62e51ec>\u001b[0m in \u001b[0;36m<module>\u001b[1;34m()\u001b[0m\n\u001b[1;32m----> 1\u001b[1;33m \u001b[1;32mimport\u001b[0m \u001b[0mtorch\u001b[0m\u001b[1;33m\u001b[0m\u001b[0m\n\u001b[0m\u001b[0;32m      2\u001b[0m \u001b[1;32mimport\u001b[0m \u001b[0mtorch\u001b[0m\u001b[1;33m.\u001b[0m\u001b[0mnn\u001b[0m \u001b[1;32mas\u001b[0m \u001b[0mnn\u001b[0m\u001b[1;33m\u001b[0m\u001b[0m\n\u001b[0;32m      3\u001b[0m \u001b[1;32mimport\u001b[0m \u001b[0mtorch\u001b[0m\u001b[1;33m.\u001b[0m\u001b[0moptim\u001b[0m \u001b[1;32mas\u001b[0m \u001b[0moptim\u001b[0m\u001b[1;33m\u001b[0m\u001b[0m\n\u001b[0;32m      4\u001b[0m \u001b[1;32mimport\u001b[0m \u001b[0mnumpy\u001b[0m \u001b[1;32mas\u001b[0m \u001b[0mnp\u001b[0m\u001b[1;33m\u001b[0m\u001b[0m\n\u001b[0;32m      5\u001b[0m \u001b[1;32mfrom\u001b[0m \u001b[0mtorch\u001b[0m\u001b[1;33m.\u001b[0m\u001b[0mautograd\u001b[0m \u001b[1;32mimport\u001b[0m \u001b[0mVariable\u001b[0m\u001b[1;33m\u001b[0m\u001b[0m\n",
      "\u001b[1;31mModuleNotFoundError\u001b[0m: No module named 'torch'"
     ]
    }
   ],
   "source": [
    "import torch\n",
    "import torch.nn as nn\n",
    "import torch.optim as optim\n",
    "import numpy as np\n",
    "from torch.autograd import Variable"
   ]
  },
  {
   "cell_type": "code",
   "execution_count": null,
   "metadata": {
    "colab": {
     "base_uri": "https://localhost:8080/",
     "height": 100
    },
    "colab_type": "code",
    "id": "JDlrfbxJYS_D",
    "outputId": "b22b85ca-53f7-428c-fa1f-579130176120"
   },
   "outputs": [],
   "source": [
    "#Tensors\n",
    "#Can be initialized from list, tuple, numpy array\n",
    "x = [[1,2,3],[4,5,6]]\n",
    "xten = torch.tensor(x, dtype=torch.float32) #xten = torch.tensor(x, dtype=torch.float32, device=torch.device('cpu'))\n",
    "print(xten)\n",
    "print(\"\")\n",
    "print(xten.size()) #like .shape in tensorflow and numpy\n",
    "print(xten.size()[1])"
   ]
  },
  {
   "cell_type": "code",
   "execution_count": null,
   "metadata": {
    "colab": {
     "base_uri": "https://localhost:8080/",
     "height": 66
    },
    "colab_type": "code",
    "id": "vIGrmPz_RUyy",
    "outputId": "175340cb-9aef-4715-9aa3-767c03a6c7b2"
   },
   "outputs": [],
   "source": [
    "#Different tensor initializations\n",
    "x1 = torch.rand((2,3))\n",
    "x2 = torch.zeros((1,2))\n",
    "x2_like = torch.randn_like(x2)\n",
    "print(x2)\n",
    "print(x2_like)\n",
    "print(torch.numel(x1))"
   ]
  },
  {
   "cell_type": "code",
   "execution_count": null,
   "metadata": {
    "colab": {
     "base_uri": "https://localhost:8080/",
     "height": 200
    },
    "colab_type": "code",
    "id": "-EUBUlTTV2xX",
    "outputId": "c0187237-f55f-4599-b42f-2d369da6250c"
   },
   "outputs": [],
   "source": [
    "#Transpose and Inverse\n",
    "x1 = torch.randn((3,3))\n",
    "print(x1)\n",
    "print()\n",
    "print(torch.t(x1))\n",
    "print()\n",
    "print(torch.inverse(x1))"
   ]
  },
  {
   "cell_type": "code",
   "execution_count": null,
   "metadata": {
    "colab": {
     "base_uri": "https://localhost:8080/",
     "height": 100
    },
    "colab_type": "code",
    "id": "hEbEuVay0WvY",
    "outputId": "b699e6bf-3d5a-463b-c41f-782eecefbd2d"
   },
   "outputs": [],
   "source": [
    "#Concatenation\n",
    "x0 = torch.tensor([[1,2,3]])\n",
    "x = torch.cat((x0,x0),0)\n",
    "print(x)\n",
    "print()\n",
    "#Select certain columns or rows\n",
    "ind = torch.index_select(x,1,torch.tensor([0,2]))\n",
    "print(ind)"
   ]
  },
  {
   "cell_type": "code",
   "execution_count": null,
   "metadata": {
    "colab": {
     "base_uri": "https://localhost:8080/",
     "height": 33
    },
    "colab_type": "code",
    "id": "YeLVt3bk2VT_",
    "outputId": "c28c279e-0a9d-4c58-b156-4d9cd7a08638"
   },
   "outputs": [],
   "source": [
    "#Reshaping\n",
    "x = torch.tensor([[1,2,3],[4,5,6]])\n",
    "y = torch.reshape(x,(1,-1))\n",
    "print(y)"
   ]
  },
  {
   "cell_type": "code",
   "execution_count": null,
   "metadata": {
    "colab": {
     "base_uri": "https://localhost:8080/",
     "height": 83
    },
    "colab_type": "code",
    "id": "kfJJZzRc4ywK",
    "outputId": "85a809b0-1c5e-45d9-d446-e87b0dcb6fd4"
   },
   "outputs": [],
   "source": [
    "###\n",
    "x = torch.randn((2,3))\n",
    "print(x)\n",
    "x = torch.clamp(x,min=0)\n",
    "print(x)"
   ]
  },
  {
   "cell_type": "code",
   "execution_count": null,
   "metadata": {
    "colab": {
     "base_uri": "https://localhost:8080/",
     "height": 33
    },
    "colab_type": "code",
    "id": "QmPYH0FH5MOZ",
    "outputId": "2d09d0c8-b1b0-4d58-cf10-6167af8755f0"
   },
   "outputs": [],
   "source": [
    "#Mathematical Operations\n",
    "x = torch.tensor([[-1,2,3],[4,5,6]])\n",
    "y = torch.tensor([[2,2,2],[2,2,2]])\n",
    "z = torch.add(x,y) #Addition\n",
    "z = torch.sub(x,y) #Subtraction\n",
    "z = torch.mul(x,y) #Element-wise multiplication\n",
    "z = torch.matmul(x,torch.t(y)) #Matrix multiplication\n",
    "z = torch.div(x,y) #Element-wise division\n",
    "z = torch.abs(x)\n",
    "#z = torch.mean(x)\n",
    "#z = torch.exp(x)\n",
    "z = torch.pow(x,y)\n",
    "#z = torch.sigmoid(x)\n",
    "z = torch.sum(y)\n",
    "print(z)"
   ]
  },
  {
   "cell_type": "markdown",
   "metadata": {
    "colab_type": "text",
    "id": "3b2iuKDUk_EV"
   },
   "source": [
    "###(2) Introduction to nn and optim"
   ]
  },
  {
   "cell_type": "code",
   "execution_count": null,
   "metadata": {
    "colab": {
     "base_uri": "https://localhost:8080/",
     "height": 33
    },
    "colab_type": "code",
    "id": "Z60TDD_clWj3",
    "outputId": "96b64dfd-b6e2-4693-ca4b-afee3972c433"
   },
   "outputs": [],
   "source": [
    "##Linear layer applies x*W.T+b\n",
    "a0 = torch.randn((130,4))\n",
    "L1 = nn.Linear(4,5)\n",
    "z1 = L1(a0)\n",
    "print(z1.size())"
   ]
  },
  {
   "cell_type": "code",
   "execution_count": null,
   "metadata": {
    "colab": {},
    "colab_type": "code",
    "id": "yEtsNS7QtInH"
   },
   "outputs": [],
   "source": [
    "##Activation functions\n",
    "z1 = torch.randn((130,5))\n",
    "sig1 = nn.Sigmoid()\n",
    "#sig1 = nn.ReLU()\n",
    "#sig1 = nn.LeakyReLU()\n",
    "#sig1 = nn.Tanh()\n",
    "a1 = sig1(z1)\n",
    "\n",
    "#Softmax\n",
    "#out1 = nn.Softmax()"
   ]
  },
  {
   "cell_type": "code",
   "execution_count": null,
   "metadata": {
    "colab": {
     "base_uri": "https://localhost:8080/",
     "height": 116
    },
    "colab_type": "code",
    "id": "ep0ktaE6uMc9",
    "outputId": "26c10652-9893-40e4-b01d-506e4199a37a"
   },
   "outputs": [],
   "source": [
    "##Feedforward in logistic regression\n",
    "a0 = torch.randn((100,4))\n",
    "L1 = nn.Linear(4,1)\n",
    "z1 = L1(a0)\n",
    "sig1 = nn.Sigmoid()\n",
    "a11 = sig1(z1)\n",
    "\n",
    "#OR\n",
    "\n",
    "model = nn.Sequential(nn.Linear(4,1), nn.Sigmoid())\n",
    "print(model)\n",
    "a1 = model(a0)\n",
    "\n",
    "print(a11.size())\n",
    "print(a1.size())\n"
   ]
  },
  {
   "cell_type": "code",
   "execution_count": null,
   "metadata": {
    "colab": {},
    "colab_type": "code",
    "id": "ucok1UwPxphM"
   },
   "outputs": [],
   "source": [
    "##Back propagation\n",
    "lossfun = nn.CrossEntropyLoss()\n",
    "optimizer = torch.optim.SGD(model.parameters(), lr=0.01) \n",
    "optimizer.zero_grad() #zero gradients to not accumulate\n",
    "#loss = lossfun(a1, y_train) #calculate loss\n",
    "#loss.backward() #update weights based on loss\n",
    "#optimizer.step() #update optimizer for next iteration"
   ]
  },
  {
   "cell_type": "markdown",
   "metadata": {
    "colab_type": "text",
    "id": "XzNs0KRqY4FC"
   },
   "source": [
    "###(3) Implementing 2-layer Neural Network using PyTorch"
   ]
  },
  {
   "cell_type": "markdown",
   "metadata": {
    "colab_type": "text",
    "id": "raSloG1pg2l7"
   },
   "source": [
    "####Imports"
   ]
  },
  {
   "cell_type": "code",
   "execution_count": null,
   "metadata": {
    "colab": {},
    "colab_type": "code",
    "id": "jdzG3f_gY9r3"
   },
   "outputs": [],
   "source": [
    "from sklearn.datasets import load_iris\n",
    "from sklearn.preprocessing import OneHotEncoder\n",
    "from sklearn.model_selection import train_test_split\n",
    "import torch\n",
    "import numpy as np\n",
    "import matplotlib.pyplot as plt"
   ]
  },
  {
   "cell_type": "markdown",
   "metadata": {
    "colab_type": "text",
    "id": "ikS9YmQIg4aV"
   },
   "source": [
    "####Data loading and preprocessing"
   ]
  },
  {
   "cell_type": "code",
   "execution_count": 0,
   "metadata": {
    "colab": {},
    "colab_type": "code",
    "id": "XGDoTpV5ZRSS"
   },
   "outputs": [],
   "source": [
    "iris = load_iris()\n",
    "x = iris['data']\n",
    "y = iris['target']\n",
    "enc = OneHotEncoder(categories='auto')\n",
    "y = enc.fit_transform(y.reshape(-1,1)).A.astype(np.float32)\n",
    "x_train, x_test, y_train, y_test = train_test_split(x, y, test_size=0.33)"
   ]
  },
  {
   "cell_type": "markdown",
   "metadata": {
    "colab_type": "text",
    "id": "r7U8QznZhDs3"
   },
   "source": [
    "####Helper functions"
   ]
  },
  {
   "cell_type": "code",
   "execution_count": 0,
   "metadata": {
    "colab": {},
    "colab_type": "code",
    "id": "QWfGCwHAbK2X"
   },
   "outputs": [],
   "source": [
    "def sigmoid(x, deriv=False):\n",
    "  sig = torch.sigmoid(x)\n",
    "  if deriv:\n",
    "    sig = sig*(1-sig)\n",
    "  return sig"
   ]
  },
  {
   "cell_type": "markdown",
   "metadata": {
    "colab_type": "text",
    "id": "gf-0WXwIhH6B"
   },
   "source": [
    "####Converting numpy arrays to torch tensors"
   ]
  },
  {
   "cell_type": "code",
   "execution_count": 0,
   "metadata": {
    "colab": {},
    "colab_type": "code",
    "id": "2RUBW6twZaAP"
   },
   "outputs": [],
   "source": [
    "x_trainv = torch.tensor(x_train, requires_grad = False, dtype=torch.float32)\n",
    "y_trainv = torch.tensor(y_train, requires_grad = False, dtype=torch.float32)\n",
    "x_testv = torch.tensor(x_test, requires_grad = False, dtype=torch.float32)\n",
    "y_testv = torch.tensor(y_test, requires_grad = False, dtype=torch.float32)"
   ]
  },
  {
   "cell_type": "markdown",
   "metadata": {
    "colab_type": "text",
    "id": "TMxYqPHZhO9s"
   },
   "source": [
    "####Training"
   ]
  },
  {
   "cell_type": "code",
   "execution_count": 0,
   "metadata": {
    "colab": {
     "base_uri": "https://localhost:8080/",
     "height": 378
    },
    "colab_type": "code",
    "id": "MyDF2G6_ZrwY",
    "outputId": "9b38e416-e602-46bb-b5d7-ececffdf09e3"
   },
   "outputs": [
    {
     "data": {
      "image/png": "[encoded data removed]",
      "text/plain": [
       "<Figure size 576x396 with 1 Axes>"
      ]
     },
     "metadata": {
      "tags": []
     },
     "output_type": "display_data"
    },
    {
     "name": "stdout",
     "output_type": "stream",
     "text": [
      "Training Accuracy 95.59%\n"
     ]
    }
   ],
   "source": [
    "n_in = x_trainv.size()[1]\n",
    "n_h = 5\n",
    "n_out = y_trainv.size()[1]\n",
    "\n",
    "\n",
    "torch.manual_seed(1)\n",
    "w0 = torch.randn((n_in,n_h))\n",
    "w1 = torch.randn((n_h,n_out))\n",
    "\n",
    "sigma = 0.01\n",
    "errors = []\n",
    "\n",
    "for i in range(2000):\n",
    "  #Feed forward\n",
    "  a0 = x_trainv\n",
    "  a1 = sigmoid(torch.matmul(a0,w0))\n",
    "  a2 = sigmoid(torch.matmul(a1,w1))\n",
    "  \n",
    "  #Back propagation using gradient descent\n",
    "  a2_error = y_trainv - a2\n",
    "  a2_delta = a2_error * sigmoid(a2, deriv=True)\n",
    "    \n",
    "  a1_error = torch.matmul(a2_delta,torch.transpose(w1,0,1))\n",
    "  a1_delta = a1_error * sigmoid(a1, deriv=True)\n",
    "    \n",
    "  w1 += torch.matmul(torch.transpose(a1,0,1),a2_delta) * sigma \n",
    "  w0 += torch.matmul(torch.transpose(a0,0,1),a1_delta) * sigma \n",
    "  \n",
    "  ####### TO BE DONE ######### 10% Time: 4 mins\n",
    "  #Write the error formula given the the error between the output layer and the labels: (a2_error)\n",
    "  \n",
    "  ############################\n",
    "  errors.append(error)\n",
    "  accuracy = (1 - error) * 100\n",
    "  \n",
    "\n",
    "#Plot the accuracy graph\n",
    "plt.plot(errors)\n",
    "plt.xlabel('Training')\n",
    "plt.ylabel('Error')\n",
    "plt.show()\n",
    "        \n",
    "print(\"Training Accuracy \" + str(round(accuracy,2)) + \"%\")\n",
    "  \n"
   ]
  },
  {
   "cell_type": "markdown",
   "metadata": {
    "colab_type": "text",
    "id": "l3gt7Jb1hRNQ"
   },
   "source": [
    "####Validation"
   ]
  },
  {
   "cell_type": "code",
   "execution_count": 0,
   "metadata": {
    "colab": {
     "base_uri": "https://localhost:8080/",
     "height": 34
    },
    "colab_type": "code",
    "id": "ZdeOR03zf-4W",
    "outputId": "8b22e778-1467-42f7-c851-53e1b9640f0d"
   },
   "outputs": [
    {
     "name": "stdout",
     "output_type": "stream",
     "text": [
      "Validation Accuracy 93.62%\n"
     ]
    }
   ],
   "source": [
    "#Validation\n",
    "a0 = x_testv\n",
    "\n",
    "####### TO BE DONE ######### 10% Time: 7 mins\n",
    "#Write the validation line codes to test your model\n",
    "\n",
    "\n",
    "\n",
    "\n",
    "############################\n",
    "\n",
    "accuracy = (1 - error) * 100\n",
    "print(\"Validation Accuracy \" + str(round(accuracy,2)) + \"%\")"
   ]
  },
  {
   "cell_type": "markdown",
   "metadata": {
    "colab_type": "text",
    "id": "UJKq_QDNYBQa"
   },
   "source": [
    "###(4) Implementing 2-layer Neural Network using nn and optim"
   ]
  },
  {
   "cell_type": "markdown",
   "metadata": {
    "colab_type": "text",
    "id": "sC2L_Eys9gjy"
   },
   "source": [
    "####Imports"
   ]
  },
  {
   "cell_type": "code",
   "execution_count": 0,
   "metadata": {
    "colab": {},
    "colab_type": "code",
    "id": "1ltNJEUBzkTQ"
   },
   "outputs": [],
   "source": [
    "from sklearn.datasets import load_iris\n",
    "from sklearn.preprocessing import OneHotEncoder\n",
    "from sklearn.model_selection import train_test_split\n",
    "import torch\n",
    "import torch.nn as nn\n",
    "import torch.optim as optim\n",
    "from torch.autograd import Variable\n",
    "import numpy as np\n",
    "import matplotlib.pyplot as plt "
   ]
  },
  {
   "cell_type": "markdown",
   "metadata": {
    "colab_type": "text",
    "id": "dthOZOtb9mQo"
   },
   "source": [
    "####Data loading"
   ]
  },
  {
   "cell_type": "code",
   "execution_count": 0,
   "metadata": {
    "colab": {},
    "colab_type": "code",
    "id": "bPiMGUtg2U86"
   },
   "outputs": [],
   "source": [
    "iris = load_iris()\n",
    "x = iris['data']\n",
    "y = iris['target']\n",
    "enc = OneHotEncoder(categories='auto')\n",
    "y = enc.fit_transform(y.reshape(-1,1)).A.astype(np.float32)\n",
    "x_train, x_test, y_train, y_test = train_test_split(x, y, test_size=0.33)"
   ]
  },
  {
   "cell_type": "markdown",
   "metadata": {
    "colab_type": "text",
    "id": "wHbo5q5u--Ae"
   },
   "source": [
    "####Converting numpy arrays into torch.tensor"
   ]
  },
  {
   "cell_type": "code",
   "execution_count": 0,
   "metadata": {
    "colab": {},
    "colab_type": "code",
    "id": "1xZ0sv7f33pW"
   },
   "outputs": [],
   "source": [
    "x_trainv = torch.tensor(x_train, requires_grad = False, dtype=torch.float32)\n",
    "y_trainv = torch.tensor(y_train, requires_grad = False, dtype=torch.float32)\n",
    "x_testv = torch.tensor(x_test, requires_grad = False, dtype=torch.float32)\n",
    "y_testv = torch.tensor(y_test, requires_grad = False, dtype=torch.float32)"
   ]
  },
  {
   "cell_type": "markdown",
   "metadata": {
    "colab_type": "text",
    "id": "BLKZm2vHOGHC"
   },
   "source": [
    "####Building model, loss function, and back propagation"
   ]
  },
  {
   "cell_type": "code",
   "execution_count": 0,
   "metadata": {
    "colab": {},
    "colab_type": "code",
    "id": "GBRd5L7A50Bv"
   },
   "outputs": [],
   "source": [
    "num_in = x.shape[1]\n",
    "num_h = 5\n",
    "num_out = y.shape[1]\n",
    "\n",
    "######## TO BE DONE ########## 15% Time: 5 mins\n",
    "#Build your model \n",
    "\n",
    "##############################\n",
    "\n",
    "criterion = nn.MSELoss()\n",
    "\n",
    "######## TO BE DONE ########## 15% Time: 4 mins\n",
    "#Define your optimization module. Use Adam optimization\n",
    "\n",
    "##############################"
   ]
  },
  {
   "cell_type": "markdown",
   "metadata": {
    "colab_type": "text",
    "id": "EPMWNTw5OZ1f"
   },
   "source": [
    "####Running model"
   ]
  },
  {
   "cell_type": "code",
   "execution_count": 0,
   "metadata": {
    "colab": {
     "base_uri": "https://localhost:8080/",
     "height": 363
    },
    "colab_type": "code",
    "id": "oylMe2Ho7mG8",
    "outputId": "88e8c971-25ef-46fc-8ecc-18687dd0bfbb"
   },
   "outputs": [
    {
     "data": {
      "image/png": "[encoded data removed]",
      "text/plain": [
       "<Figure size 576x396 with 1 Axes>"
      ]
     },
     "metadata": {
      "tags": []
     },
     "output_type": "display_data"
    },
    {
     "name": "stdout",
     "output_type": "stream",
     "text": [
      "Training accuracy = 99.98 %\n"
     ]
    }
   ],
   "source": [
    "all_losses = []\n",
    "for num in range(7000): #7000 iterations\n",
    "  \n",
    "  ######## TO BE DONE ########## 30% Time: 20 mins\n",
    "  #Predict the output of your model\n",
    "  #Calculate loss\n",
    "  #Append the loss to all_losses list\n",
    "  #Delete the accumulated gradient\n",
    "  #update weights based on loss function you defined earlier\n",
    "  \n",
    "  \n",
    "  \n",
    "  \n",
    "  \n",
    "  ##############################\n",
    "  \n",
    "  optimizer.step() #update optimizer for next iteration\n",
    "\n",
    "all_losses = np.array(all_losses, dtype = np.float)\n",
    "plt.plot(all_losses)\n",
    "plt.show()\n",
    "\n",
    "print(\"Training accuracy = \" + str(round(100-(all_losses[-1]*100),2)) + \" %\")\n"
   ]
  },
  {
   "cell_type": "markdown",
   "metadata": {
    "colab_type": "text",
    "id": "Z7QImpnhOdGG"
   },
   "source": [
    "####Validation"
   ]
  },
  {
   "cell_type": "code",
   "execution_count": 0,
   "metadata": {
    "colab": {
     "base_uri": "https://localhost:8080/",
     "height": 33
    },
    "colab_type": "code",
    "id": "x9mwkenCBxdd",
    "outputId": "e23e4800-378c-4823-dc3d-d13301c3e94c"
   },
   "outputs": [
    {
     "name": "stdout",
     "output_type": "stream",
     "text": [
      "Validation accuracy = 97.33 %\n"
     ]
    }
   ],
   "source": [
    "#Validation\n",
    "\n",
    "######## TO BE DONE ########## 20% Time: 10 mins\n",
    "#Validate your model for the test set, and then get the loss\n",
    "\n",
    "\n",
    "##############################\n",
    "\n",
    "print(\"Validation accuracy = \" + str(round(100-(loss.item()*100),2)) + \" %\")\n"
   ]
  }
 ],
 "metadata": {
  "colab": {
   "collapsed_sections": [
    "TOGQrVyQYNX0",
    "3b2iuKDUk_EV",
    "XzNs0KRqY4FC",
    "raSloG1pg2l7",
    "ikS9YmQIg4aV",
    "r7U8QznZhDs3",
    "gf-0WXwIhH6B",
    "TMxYqPHZhO9s",
    "l3gt7Jb1hRNQ",
    "sC2L_Eys9gjy",
    "dthOZOtb9mQo",
    "wHbo5q5u--Ae",
    "BLKZm2vHOGHC",
    "EPMWNTw5OZ1f"
   ],
   "name": "Lab3-students.ipynb",
   "provenance": [],
   "version": "0.3.2"
  },
  "kernelspec": {
   "display_name": "Python 3",
   "language": "python",
   "name": "python3"
  },
  "language_info": {
   "codemirror_mode": {
    "name": "ipython",
    "version": 3
   },
   "file_extension": ".py",
   "mimetype": "text/x-python",
   "name": "python",
   "nbconvert_exporter": "python",
   "pygments_lexer": "ipython3",
   "version": "3.7.0"
  }
 },
 "nbformat": 4,
 "nbformat_minor": 1
}
